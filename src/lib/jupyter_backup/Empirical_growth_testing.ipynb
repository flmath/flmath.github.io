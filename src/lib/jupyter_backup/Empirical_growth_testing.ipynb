{
 "cells": [
  {
   "cell_type": "markdown",
   "metadata": {},
   "source": [
    "# Empirical growth testing"
   ]
  },
  {
   "cell_type": "markdown",
   "metadata": {},
   "source": [
    "The [time](https://en.wikipedia.org/wiki/Time_complexity) and [computational](https://en.wikipedia.org/wiki/Computational_complexity) complexity are critical fields of algorithms research since birth of computer science. However in modern world where applications are more and more often implemented as sets of communicating services (or processes) without hard guarantees the message delivery time direct analysis becomes problematic. But since hardware or software update can change behaviour of whole system, the need to estimate scalability of the new solution is still present. In this document I show methods I have created to:\n",
    " - Phase 1: find out which of implementations showing signs of bad scalability(exponetial growth)\n",
    " - Phase 2: compare implementations with the polynomial scalability (find degree of polynomial)\n",
    "based on regular empirical sample we can get from a standard testing.\n",
    "\n",
    "In the phase 1 we we assume null hypothesis that the growth is not at least exponential, if we are able to reject it algorithm is not interesting for us. Else we go to the phase 2 where we try to estimate if the growth is polynomial and what is the degree of the polynomial (useful for comparison to other algorithms). We assume that a checked algorithm needs for resources grows monotically with the amount of data we are processing. In the case the measure errors break this assumption you can use [isotonic regression](https://en.wikipedia.org/wiki/Isotonic_regression) to create good values."
   ]
  },
  {
   "cell_type": "markdown",
   "metadata": {},
   "source": [
    "<div style=\"text-align: right\"> Best wishes <br/> \n",
    "<a href=\"http://zxama.qr.ai/\">Mathias Green</a>\n",
    "</div>"
   ]
  },
  {
   "cell_type": "code",
   "execution_count": 38,
   "metadata": {},
   "outputs": [],
   "source": [
    "import numpy as np\n",
    "import sympy as sp\n",
    "import scipy as sc\n",
    "from scipy import optimize\n",
    "from sympy import limit, sin, Symbol, oo\n",
    "sp.init_printing(use_latex='mathjax')"
   ]
  },
  {
   "cell_type": "markdown",
   "metadata": {},
   "source": [
    "### Phase 1: Exponetial growth testing"
   ]
  },
  {
   "cell_type": "markdown",
   "metadata": {},
   "source": [
    "We know that we know that f is monotonicly growing function, so we can present it as $f(x)=e^{g(x)}$. Which gives:"
   ]
  },
  {
   "cell_type": "markdown",
   "metadata": {},
   "source": [
    "\\begin{equation}\\nonumber\\ln(f(x))=\\ln(e^{g(x)})=g(x)\\end{equation}"
   ]
  },
  {
   "cell_type": "markdown",
   "metadata": {},
   "source": [
    "The f is monotonicly growing function, so $\\forall_{x>0} g(x) > 1$. If the growth of $g$ is constant or increasing then $f$ grows exponetially or faster."
   ]
  },
  {
   "cell_type": "markdown",
   "metadata": {},
   "source": [
    "So we can present the growth as derivatives:"
   ]
  },
  {
   "cell_type": "markdown",
   "metadata": {},
   "source": [
    "\\begin{equation}\\tag{1}\\frac{d}{dx}\\ln(f(x))=\\frac{d}{dx}(\\ln(e^{g(x)}))=\\frac{d}{dx}g(x)\\end{equation}\n",
    "<a id='log_identity'></a>"
   ]
  },
  {
   "cell_type": "markdown",
   "metadata": {},
   "source": [
    "Since $g$ is growing:"
   ]
  },
  {
   "cell_type": "markdown",
   "metadata": {},
   "source": [
    "\\begin{equation}\\nonumber \\frac{d}{dx}g(x)\\geq 0\\end{equation}"
   ]
  },
  {
   "cell_type": "markdown",
   "metadata": {},
   "source": [
    "If $\\frac{d}{dx}g(x)$ goes to $\\infty$ the $f$ grows exponentially or more. Lets assume that $\\exists l>0$ so:"
   ]
  },
  {
   "cell_type": "markdown",
   "metadata": {},
   "source": [
    "\\begin{equation}\\tag{2}\\lim_{x\\to \\infty}\\frac{d}{dx}g(x)=l\\end{equation}\n",
    "<a id='l_eq'></a>"
   ]
  },
  {
   "cell_type": "markdown",
   "metadata": {},
   "source": [
    "We can give $h(x)= l\\cdot x - k$ with $k$ big enough, so $\\forall_{x>0}\\ h(x) \\leq g(x)$."
   ]
  },
  {
   "cell_type": "markdown",
   "metadata": {},
   "source": [
    "Since $e^{h(x)}$ grows at least exponetially, so $f$ does."
   ]
  },
  {
   "cell_type": "markdown",
   "metadata": {},
   "source": [
    "So if $\\frac{d}{dx}g(x)$ goes towards limit higher than $0$ it means the $f$ grows at least exponentially."
   ]
  },
  {
   "cell_type": "markdown",
   "metadata": {},
   "source": [
    "We can also point out that if $g(x)=ln(x^n)$ then:"
   ]
  },
  {
   "cell_type": "markdown",
   "metadata": {},
   "source": [
    "\\begin{equation}\\nonumber f(x)=e^{ln(x^n)}=e^{n\\cdot ln(x)}=x^n\\end{equation}"
   ]
  },
  {
   "cell_type": "markdown",
   "metadata": {},
   "source": [
    "It means $f$ has at most polynomial growth if g(x) if $g$ has at most logaritmic growth."
   ]
  },
  {
   "cell_type": "markdown",
   "metadata": {},
   "source": [
    "We can use sympy(or other CAS) to estimate cooefficients in above considerations. Lets assume exponetially growing $f$ has form:"
   ]
  },
  {
   "cell_type": "markdown",
   "metadata": {},
   "source": [
    "\\begin{equation}\\nonumber f(x)=b\\cdot e^{c\\cdot (x^s)}+d\\end{equation}"
   ]
  },
  {
   "cell_type": "code",
   "execution_count": 39,
   "metadata": {},
   "outputs": [
    {
     "data": {
      "text/latex": [
       "$\\displaystyle b^{c x^{s}} + d$"
      ],
      "text/plain": [
       "    s    \n",
       " c⋅x     \n",
       "b     + d"
      ]
     },
     "execution_count": 39,
     "metadata": {},
     "output_type": "execute_result"
    }
   ],
   "source": [
    "a,b,c,d,s,x = sp.symbols('a b c d s x')\n",
    "SymF = b**(c*(x**s))+d\n",
    "SymF"
   ]
  },
  {
   "cell_type": "markdown",
   "metadata": {},
   "source": [
    "And \\begin{equation}\\nonumber g(x)=\\log_a({f(x)})\\end{equation}"
   ]
  },
  {
   "cell_type": "code",
   "execution_count": 40,
   "metadata": {},
   "outputs": [
    {
     "data": {
      "text/latex": [
       "$\\displaystyle \\frac{\\log{\\left(b^{c x^{s}} + d \\right)}}{\\log{\\left(a \\right)}}$"
      ],
      "text/plain": [
       "   ⎛    s    ⎞\n",
       "   ⎜ c⋅x     ⎟\n",
       "log⎝b     + d⎠\n",
       "──────────────\n",
       "    log(a)    "
      ]
     },
     "execution_count": 40,
     "metadata": {},
     "output_type": "execute_result"
    }
   ],
   "source": [
    "SymG = sp.log(SymF,a)\n",
    "SymG "
   ]
  },
  {
   "cell_type": "code",
   "execution_count": 41,
   "metadata": {},
   "outputs": [
    {
     "data": {
      "text/latex": [
       "$\\displaystyle \\frac{b^{c x^{s}} c s x^{s} \\log{\\left(b \\right)}}{x \\left(b^{c x^{s}} + d\\right) \\log{\\left(a \\right)}}$"
      ],
      "text/plain": [
       "    s               \n",
       " c⋅x       s        \n",
       "b    ⋅c⋅s⋅x ⋅log(b) \n",
       "────────────────────\n",
       "  ⎛    s    ⎞       \n",
       "  ⎜ c⋅x     ⎟       \n",
       "x⋅⎝b     + d⎠⋅log(a)"
      ]
     },
     "execution_count": 41,
     "metadata": {},
     "output_type": "execute_result"
    }
   ],
   "source": [
    "DSymG = sp.diff(SymG,x)\n",
    "DSymG"
   ]
  },
  {
   "cell_type": "code",
   "execution_count": 42,
   "metadata": {},
   "outputs": [],
   "source": [
    "try:\n",
    "    sp.limit(DSymG, x, oo)\n",
    "except Exception as inst:\n",
    "    print(inst.__context__)  "
   ]
  },
  {
   "cell_type": "markdown",
   "metadata": {},
   "source": [
    "We can assume that all the values are positive and the $b$ is bigger than $0$."
   ]
  },
  {
   "cell_type": "markdown",
   "metadata": {},
   "source": [
    "Lets check $s=1$:"
   ]
  },
  {
   "cell_type": "code",
   "execution_count": 43,
   "metadata": {},
   "outputs": [
    {
     "data": {
      "text/latex": [
       "$\\displaystyle \\frac{c \\left(b + 1\\right)^{c x} \\log{\\left(b + 1 \\right)}}{\\left(d + \\left(b + 1\\right)^{c x}\\right) \\log{\\left(a \\right)}}$"
      ],
      "text/plain": [
       "         c⋅x           \n",
       "c⋅(b + 1)   ⋅log(b + 1)\n",
       "───────────────────────\n",
       "⎛           c⋅x⎞       \n",
       "⎝d + (b + 1)   ⎠⋅log(a)"
      ]
     },
     "execution_count": 43,
     "metadata": {},
     "output_type": "execute_result"
    }
   ],
   "source": [
    "a,b,c,d,s,x = sp.symbols('a b c d s x', positive=True)\n",
    "SymF = (b+1)**(c*(x**(1)))+d\n",
    "SymG = sp.log(SymF,a)\n",
    "DSymG = sp.diff(SymG,x)\n",
    "DSymG"
   ]
  },
  {
   "cell_type": "code",
   "execution_count": 44,
   "metadata": {},
   "outputs": [
    {
     "data": {
      "text/latex": [
       "$\\displaystyle \\frac{c \\log{\\left(b + 1 \\right)}}{\\log{\\left(a \\right)}}$"
      ],
      "text/plain": [
       "c⋅log(b + 1)\n",
       "────────────\n",
       "   log(a)   "
      ]
     },
     "execution_count": 44,
     "metadata": {},
     "output_type": "execute_result"
    }
   ],
   "source": [
    "sp.limit(DSymG, x, oo)"
   ]
  },
  {
   "cell_type": "markdown",
   "metadata": {},
   "source": [
    "We can try to estimate how fast the function aproaches limit:"
   ]
  },
  {
   "cell_type": "code",
   "execution_count": 45,
   "metadata": {},
   "outputs": [
    {
     "data": {
      "text/latex": [
       "$\\displaystyle - \\frac{c d \\log{\\left(b + 1 \\right)}}{\\left(d + \\left(b + 1\\right)^{c x}\\right) \\log{\\left(a \\right)}} + \\frac{c \\log{\\left(b + 1 \\right)}}{\\log{\\left(a \\right)}}$"
      ],
      "text/plain": [
       "       c⋅d⋅log(b + 1)       c⋅log(b + 1)\n",
       "- ─────────────────────── + ────────────\n",
       "  ⎛           c⋅x⎞             log(a)   \n",
       "  ⎝d + (b + 1)   ⎠⋅log(a)               "
      ]
     },
     "execution_count": 45,
     "metadata": {},
     "output_type": "execute_result"
    }
   ],
   "source": [
    "p = sp.symbols('p', positive=True)\n",
    "DSymGP = DSymG.subs((b+1)**(c*x),p)\n",
    "sp.apart(DSymGP,p).subs(p,(b+1)**(c*x))"
   ]
  },
  {
   "cell_type": "markdown",
   "metadata": {},
   "source": [
    "It looks with exponetial acceleration."
   ]
  },
  {
   "cell_type": "markdown",
   "metadata": {},
   "source": [
    "We get form of the constant $l$ above $0$. Lets check $s>1$:"
   ]
  },
  {
   "cell_type": "code",
   "execution_count": 46,
   "metadata": {},
   "outputs": [
    {
     "data": {
      "text/latex": [
       "$\\displaystyle \\frac{c x^{s + 1} \\left(b + 1\\right)^{c x^{s + 1}} \\left(s + 1\\right) \\log{\\left(b + 1 \\right)}}{x \\left(d + \\left(b + 1\\right)^{c x^{s + 1}}\\right) \\log{\\left(a \\right)}}$"
      ],
      "text/plain": [
       "                   s + 1                   \n",
       "   s + 1        c⋅x                        \n",
       "c⋅x     ⋅(b + 1)        ⋅(s + 1)⋅log(b + 1)\n",
       "───────────────────────────────────────────\n",
       "         ⎛              s + 1⎞             \n",
       "         ⎜           c⋅x     ⎟             \n",
       "       x⋅⎝d + (b + 1)        ⎠⋅log(a)      "
      ]
     },
     "execution_count": 46,
     "metadata": {},
     "output_type": "execute_result"
    }
   ],
   "source": [
    "a,b,c,d,s,x = sp.symbols('a b c d s x', positive=True)\n",
    "SymF = (b+1)**(c*(x**(1+s)))+d\n",
    "SymG = sp.log(SymF,a)\n",
    "DSymG = sp.diff(SymG,x)\n",
    "DSymG"
   ]
  },
  {
   "cell_type": "code",
   "execution_count": 47,
   "metadata": {},
   "outputs": [
    {
     "data": {
      "text/latex": [
       "$\\displaystyle \\infty \\operatorname{sign}{\\left(\\frac{\\log{\\left(\\left(b + 1\\right)^{c} \\left(b + 1\\right)^{c s} \\right)}}{\\log{\\left(a \\right)}} \\right)}$"
      ],
      "text/plain": [
       "      ⎛   ⎛       c        c⋅s⎞⎞\n",
       "      ⎜log⎝(b + 1) ⋅(b + 1)   ⎠⎟\n",
       "∞⋅sign⎜────────────────────────⎟\n",
       "      ⎝         log(a)         ⎠"
      ]
     },
     "execution_count": 47,
     "metadata": {},
     "output_type": "execute_result"
    }
   ],
   "source": [
    "sp.limit(DSymG, x, oo)"
   ]
  },
  {
   "cell_type": "markdown",
   "metadata": {},
   "source": [
    "For $s\\in [0,1)$ we should get to $0$."
   ]
  },
  {
   "cell_type": "code",
   "execution_count": 48,
   "metadata": {},
   "outputs": [
    {
     "data": {
      "text/latex": [
       "$\\displaystyle \\frac{c s x^{\\frac{s}{s + 1}} \\left(b + 1\\right)^{c x^{\\frac{s}{s + 1}}} \\log{\\left(b + 1 \\right)}}{x \\left(d + \\left(b + 1\\right)^{c x^{\\frac{s}{s + 1}}}\\right) \\left(s + 1\\right) \\log{\\left(a \\right)}}$"
      ],
      "text/plain": [
       "                       s              \n",
       "       s             ─────            \n",
       "     ─────           s + 1            \n",
       "     s + 1        c⋅x                 \n",
       "c⋅s⋅x     ⋅(b + 1)        ⋅log(b + 1) \n",
       "──────────────────────────────────────\n",
       "  ⎛                s  ⎞               \n",
       "  ⎜              ─────⎟               \n",
       "  ⎜              s + 1⎟               \n",
       "  ⎜           c⋅x     ⎟               \n",
       "x⋅⎝d + (b + 1)        ⎠⋅(s + 1)⋅log(a)"
      ]
     },
     "execution_count": 48,
     "metadata": {},
     "output_type": "execute_result"
    }
   ],
   "source": [
    "a,b,c,d,s,x = sp.symbols('a b c d s x', positive=True)\n",
    "SymF = (b+1)**(c*(x**(s/(1+s))))+d\n",
    "SymG = sp.log(SymF,a)\n",
    "DSymG = sp.diff(SymG,x)\n",
    "DSymG"
   ]
  },
  {
   "cell_type": "code",
   "execution_count": 49,
   "metadata": {},
   "outputs": [
    {
     "data": {
      "text/latex": [
       "$\\displaystyle 0$"
      ],
      "text/plain": [
       "0"
      ]
     },
     "execution_count": 49,
     "metadata": {},
     "output_type": "execute_result"
    }
   ],
   "source": [
    "sp.limit(DSymG, x, oo)"
   ]
  },
  {
   "cell_type": "code",
   "execution_count": 50,
   "metadata": {},
   "outputs": [
    {
     "data": {
      "text/latex": [
       "$\\displaystyle - \\frac{c d s x^{\\frac{s}{s + 1}} \\log{\\left(b + 1 \\right)}}{x \\left(d + \\left(b + 1\\right)^{c x^{\\frac{s}{s + 1}}}\\right) \\left(s + 1\\right) \\log{\\left(a \\right)}} + \\frac{c s x^{\\frac{s}{s + 1}} \\log{\\left(b + 1 \\right)}}{s x \\log{\\left(a \\right)} + x \\log{\\left(a \\right)}}$"
      ],
      "text/plain": [
       "                  s                               s             \n",
       "                ─────                           ─────           \n",
       "                s + 1                           s + 1           \n",
       "         c⋅d⋅s⋅x     ⋅log(b + 1)           c⋅s⋅x     ⋅log(b + 1)\n",
       "- ────────────────────────────────────── + ─────────────────────\n",
       "    ⎛                s  ⎞                  s⋅x⋅log(a) + x⋅log(a)\n",
       "    ⎜              ─────⎟                                       \n",
       "    ⎜              s + 1⎟                                       \n",
       "    ⎜           c⋅x     ⎟                                       \n",
       "  x⋅⎝d + (b + 1)        ⎠⋅(s + 1)⋅log(a)                        "
      ]
     },
     "execution_count": 50,
     "metadata": {},
     "output_type": "execute_result"
    }
   ],
   "source": [
    "p = sp.symbols('p', positive=True)\n",
    "DSymGP = DSymG.subs((b+1)**(c*(x**(s/(s+1)))),p)\n",
    "sp.apart(DSymGP,p).subs(p,(b+1)**(c*(x**(s/(s+1)))))"
   ]
  },
  {
   "cell_type": "markdown",
   "metadata": {},
   "source": [
    "The first part is going to zero at least with exponetial acceleration, the second with $x^{\\frac{s-1}{s+1}}=x^{-2}$ quadratic acceleration."
   ]
  },
  {
   "cell_type": "markdown",
   "metadata": {},
   "source": [
    " ### How to test:"
   ]
  },
  {
   "cell_type": "markdown",
   "metadata": {},
   "source": [
    "We test a hypothesis that $f$ has at least exponetial growth."
   ]
  },
  {
   "cell_type": "markdown",
   "metadata": {},
   "source": [
    "To check if the $f(x)$ grows we check behaviour of the $\\frac{d}{dx}g(x)$. If it does not go to $0$ with at least $\\mathcal(\\frac{a}{x}+const)$ acceleration then we have that the $f$ is an exponetially growing function."
   ]
  },
  {
   "cell_type": "markdown",
   "metadata": {},
   "source": [
    " 1. We start with calculating $\\frac{d}{dx}g(x)$:"
   ]
  },
  {
   "cell_type": "markdown",
   "metadata": {},
   "source": [
    " - We compute derivate based on the stencil method [link](http://web.media.mit.edu/~crtaylor/calculator.html)\n",
    "I have chosen locations of sampled points equal to 0,1,2,3,4,5 since I do not want use negative locations with limited data."
   ]
  },
  {
   "cell_type": "code",
   "execution_count": 51,
   "metadata": {},
   "outputs": [],
   "source": [
    "def df_1(f,h):\n",
    "    f = np.float64(f)\n",
    "    h = np.float64(h)\n",
    "    df = lambda f, h:((-137*f[0]+300*f[1]-300*f[2]+200*f[3]-75*f[4]+12*f[5])/(60*1.0*h))\n",
    "    return [df(f[j:j+6], 1) for j in range(0,f.size-6)]"
   ]
  },
  {
   "cell_type": "markdown",
   "metadata": {},
   "source": [
    " - We then use logarithm identity to estimate $\\frac{d}{dx}g(x)$:"
   ]
  },
  {
   "cell_type": "markdown",
   "metadata": {},
   "source": [
    "\\begin{equation}\\nonumber\\frac{d}{dx}g(x)=\\frac{d}{dx}(\\ln(f(x)))\\end{equation}"
   ]
  },
  {
   "cell_type": "code",
   "execution_count": 52,
   "metadata": {},
   "outputs": [],
   "source": [
    "def d_g(f,h):\n",
    "    return df_1(np.log(f),h)"
   ]
  },
  {
   "cell_type": "markdown",
   "metadata": {},
   "source": [
    "2. We make statistical tests to check if the $\\frac{d}{dx}g(x)$ has all necessary properties:"
   ]
  },
  {
   "cell_type": "markdown",
   "metadata": {},
   "source": [
    " - We calculate [Spearman rank coefficient](https://en.wikipedia.org/wiki/Spearman%27s_rank_correlation_coefficient) to check if it is monotonically decreasing, otherwise we can assume $f$ is growing at least exponentially."
   ]
  },
  {
   "cell_type": "markdown",
   "metadata": {},
   "source": [
    " - We test for existence of unit root with [KPSS test](https://en.wikipedia.org/wiki/KPSS_test) and [Augmented Dickey Fuller test](https://en.wikipedia.org/wiki/Augmented_Dickey%E2%80%93Fuller_test), if there is no unit root and the $\\frac{d}{dx}g(x)$ is stationary around value significantly bigger than zero, we can assume $f$ is growing at least exponentially."
   ]
  },
  {
   "cell_type": "markdown",
   "metadata": {},
   "source": [
    "- We do curve fitting for $a_0\\cdot x +b+0$, $\\frac{a_1}{x}+b_1$ and $\\frac{a_2}{x^2}+b_2$ check p-values of ordinary regressions. If the p-value of the first is smaller than the others, there is something fishy."
   ]
  },
  {
   "cell_type": "markdown",
   "metadata": {},
   "source": [
    "3. If all test went through we cannot reject the hypothesis."
   ]
  },
  {
   "cell_type": "markdown",
   "metadata": {},
   "source": [
    "### Phase 2: Polynomial growth testing"
   ]
  },
  {
   "cell_type": "markdown",
   "metadata": {},
   "source": [
    "We can assume $a\\cdot x^n = f(x)=e^{g(x)}$."
   ]
  },
  {
   "cell_type": "markdown",
   "metadata": {},
   "source": [
    "So \\begin{equation}\\nonumber g(x)=n\\cdot \\ln(x)+\\ln(a)\\end{equation}"
   ]
  },
  {
   "cell_type": "markdown",
   "metadata": {},
   "source": [
    "We try to find $n$:"
   ]
  },
  {
   "cell_type": "markdown",
   "metadata": {},
   "source": [
    " 1. We try do curve fitting for $g(x)$, we get estimated $n$ parameter, we should check p-values of ordinary regression.\n",
    "    \n",
    "    We can try two aproaches from [wiki](https://en.wikipedia.org/wiki/Degree_of_a_polynomial)\n",
    "    \\begin{equation}\\nonumber \\deg\\ f = \\lim_{x\\to\\infty}\\frac{log\\lvert f(x)\\rvert}{log(x)} = \\lim_{x\\to\\infty}\\frac{g(x)}{log(x)} \\end{equation}\n",
    "    \n",
    "    \\begin{equation}\\nonumber \\deg\\ f = \\lim_{x\\to\\infty}\\frac{x\\cdot \\frac{d}{dx}f(x)}{f(x)} \\end{equation}"
   ]
  },
  {
   "cell_type": "markdown",
   "metadata": {},
   "source": [
    " 2. We compute the $n$th and $(n+1)$th derivate of $f$ based on the stencil method [link](http://web.media.mit.edu/~crtaylor/calculator.html)"
   ]
  },
  {
   "cell_type": "markdown",
   "metadata": {},
   "source": [
    " 3. Check with [KPSS test](https://en.wikipedia.org/wiki/KPSS_test) and/or [Augmented Dickey Fuller test](https://en.wikipedia.org/wiki/Augmented_Dickey%E2%80%93Fuller_test) if\n",
    " \\begin{equation}\\nonumber\\frac{d^{n+1}}{dx^{n+1}}f(x)\\equiv 0\\end{equation}\n",
    "  - If not try to divide  $(n+1)$th by $n$th derivate and check if it is close to $0$, it should be since it is $\\frac{0}{const}$.\n",
    "  - Also execute polynomial regression and check if the residuals confim the findings."
   ]
  },
  {
   "cell_type": "markdown",
   "metadata": {},
   "source": [
    "Alternative:"
   ]
  },
  {
   "cell_type": "markdown",
   "metadata": {},
   "source": [
    "We can try use [Stolz–Cesàro theorem](https://en.wikipedia.org/wiki/Stolz%E2%80%93Ces%C3%A0ro_theorem) to estimate limit."
   ]
  },
  {
   "cell_type": "markdown",
   "metadata": {},
   "source": [
    "$$\\lim_{x\\to\\infty}\\frac{1}{x}=0\\text{ so }\\lim_{x\\to\\infty}\\frac{1}{\\frac{1}{x}}=\\infty  \\text{and is monotonic. Lets try reach }$$\n",
    "$$\\lim_{x\\to\\infty}\\frac{\\frac{1}{\\frac{dg}{dx}(x)}}{x^n}\\text{ for }n > 0$$"
   ]
  },
  {
   "cell_type": "markdown",
   "metadata": {},
   "source": [
    "This is tricky alternative since Stolz–Cesàro theorem assumes that we differentiate strongly growing function. It is the case for the first iteration, but later Spearman rank coefficient test has to be applied every step and isotonic regression in case some strange outliners."
   ]
  },
  {
   "cell_type": "markdown",
   "metadata": {},
   "source": [
    "## Examples for exponetial growth testing:"
   ]
  },
  {
   "cell_type": "code",
   "execution_count": 53,
   "metadata": {},
   "outputs": [],
   "source": [
    "import statsmodels.tsa.stattools as stat\n",
    "import statsmodels.api as sm\n",
    "import scipy.stats as sps"
   ]
  },
  {
   "cell_type": "code",
   "execution_count": 54,
   "metadata": {},
   "outputs": [],
   "source": [
    "import matplotlib.pyplot as plt\n",
    "#%matplotlib inline"
   ]
  },
  {
   "cell_type": "markdown",
   "metadata": {},
   "source": [
    "### Example: $2^x+1$"
   ]
  },
  {
   "cell_type": "code",
   "execution_count": 55,
   "metadata": {},
   "outputs": [
    {
     "data": {
      "text/plain": [
       "array([0.34505258, 0.4608561 , 0.55417653, 0.61620674, 0.65251573,\n",
       "       0.67224712, 0.68254505, 0.6878073 , 0.69046744, 0.69180484,\n",
       "       0.6924754 , 0.69281113, 0.69297912, 0.69306314, 0.69310516,\n",
       "       0.69312617, 0.69313667, 0.69314193, 0.69314455, 0.69314587,\n",
       "       0.69314652, 0.69314685, 0.69314702, 0.6931471 , 0.69314714,\n",
       "       0.69314716, 0.69314717, 0.69314718, 0.69314718, 0.69314718,\n",
       "       0.69314718, 0.69314718, 0.69314718, 0.69314718, 0.69314718,\n",
       "       0.69314718, 0.69314718, 0.69314718, 0.69314718, 0.69314718,\n",
       "       0.69314718, 0.69314718, 0.69314718, 0.69314718])"
      ]
     },
     "execution_count": 55,
     "metadata": {},
     "output_type": "execute_result"
    }
   ],
   "source": [
    "Exponential = np.asarray([np.power(2,x)+1 for x in range(50)])\n",
    "dg = np.transpose(d_g(Exponential,100))\n",
    "X = range(dg.size)\n",
    "X = sm.add_constant(X)\n",
    "dg"
   ]
  },
  {
   "cell_type": "markdown",
   "metadata": {},
   "source": [
    "Quite clearly the series going asymptoticly to value in $[0,1]$."
   ]
  },
  {
   "cell_type": "code",
   "execution_count": 56,
   "metadata": {},
   "outputs": [
    {
     "data": {
      "text/plain": [
       "SignificanceResult(statistic=1.0, pvalue=0.0)"
      ]
     },
     "execution_count": 56,
     "metadata": {},
     "output_type": "execute_result"
    }
   ],
   "source": [
    "sps.spearmanr(range(dg.size),dg)"
   ]
  },
  {
   "cell_type": "markdown",
   "metadata": {},
   "source": [
    "The first value is correlation rank. Since it is more than $0$ the hypothesis is that the function is monoticaly growing.\n",
    "The second value is p-value. p-value numerically equals $0$, so the hypothesis is valid. So $f$ grows at least exponetially.\n",
    "<a id='2toN'></a>"
   ]
  },
  {
   "cell_type": "markdown",
   "metadata": {},
   "source": [
    "It is not necessary, we will go through the second point."
   ]
  },
  {
   "cell_type": "code",
   "execution_count": 57,
   "metadata": {},
   "outputs": [
    {
     "data": {
      "text/latex": [
       "$\\displaystyle \\left( 0.480167469601092, \\  0.0461334527925469\\right)$"
      ],
      "text/plain": [
       "(0.48016746960109197, 0.04613345279254686)"
      ]
     },
     "execution_count": 57,
     "metadata": {},
     "output_type": "execute_result"
    }
   ],
   "source": [
    "Result = stat.kpss(dg, regression='c')\n",
    "(R_scr,pvalue) = Result[0:2]\n",
    "(R_scr,pvalue) "
   ]
  },
  {
   "cell_type": "code",
   "execution_count": 58,
   "metadata": {},
   "outputs": [
    {
     "data": {
      "text/latex": [
       "$\\displaystyle \\left( -133.982536446476, \\  0.0\\right)$"
      ],
      "text/plain": [
       "(-133.982536446476, 0.0)"
      ]
     },
     "execution_count": 58,
     "metadata": {},
     "output_type": "execute_result"
    }
   ],
   "source": [
    "Result = stat.adfuller(dg, maxlag=None, regression='c', autolag='AIC')\n",
    "(R_scr,pvalue) = Result[0:2]\n",
    "(R_scr,pvalue) "
   ]
  },
  {
   "cell_type": "markdown",
   "metadata": {},
   "source": [
    "With Augmented Dickey Fuller test we reject (p-value $= 0$) thesis that there is an unit root. KPSS doesn't allow us to reject a thesis that the $\\frac{d}{dx}g(x)$ is not stationary (big R-score, p-value over $5\\%$). The series stabilizes around value significally bigger than $0$. So $f$ grows at least exponetially."
   ]
  },
  {
   "cell_type": "markdown",
   "metadata": {},
   "source": [
    "### Example: $e^x+1$"
   ]
  },
  {
   "cell_type": "code",
   "execution_count": 59,
   "metadata": {},
   "outputs": [
    {
     "data": {
      "text/plain": [
       "array([0.48959582, 0.72902316, 0.88184034, 0.95341181, 0.98239963,\n",
       "       0.99346056, 0.99758542, 0.99911052, 0.99967262, 0.99987954,\n",
       "       0.99995568, 0.9999837 , 0.999994  , 0.99999779, 0.99999919,\n",
       "       0.9999997 , 0.99999989, 0.99999996, 0.99999999, 0.99999999,\n",
       "       1.        , 1.        , 1.        , 1.        , 1.        ,\n",
       "       1.        , 1.        , 1.        , 1.        , 1.        ,\n",
       "       1.        , 1.        , 1.        , 1.        , 1.        ,\n",
       "       1.        , 1.        , 1.        , 1.        , 1.        ,\n",
       "       1.        , 1.        , 1.        , 1.        ])"
      ]
     },
     "execution_count": 59,
     "metadata": {},
     "output_type": "execute_result"
    }
   ],
   "source": [
    "Exponential_2  = np.asarray([np.exp(x)+1 for x in range(50)])\n",
    "dg = np.transpose(d_g(Exponential_2,100))\n",
    "X = range(dg.size)\n",
    "X = sm.add_constant(X)\n",
    "dg"
   ]
  },
  {
   "cell_type": "code",
   "execution_count": 60,
   "metadata": {},
   "outputs": [
    {
     "data": {
      "text/plain": [
       "SignificanceResult(statistic=0.9913654818079233, pvalue=1.082667291052979e-38)"
      ]
     },
     "execution_count": 60,
     "metadata": {},
     "output_type": "execute_result"
    }
   ],
   "source": [
    "sps.spearmanr(range(dg.size),dg)"
   ]
  },
  {
   "cell_type": "markdown",
   "metadata": {},
   "source": [
    "The same situation as in the [example above](#2toN). So $f$ grows at least exponetially.\n",
    "<a id='eXplus1'></a>"
   ]
  },
  {
   "cell_type": "code",
   "execution_count": 61,
   "metadata": {},
   "outputs": [
    {
     "data": {
      "text/latex": [
       "$\\displaystyle \\left( 0.421079567519582, \\  0.0680691519312145\\right)$"
      ],
      "text/plain": [
       "(0.4210795675195824, 0.06806915193121449)"
      ]
     },
     "execution_count": 61,
     "metadata": {},
     "output_type": "execute_result"
    }
   ],
   "source": [
    "Result = stat.kpss(dg, regression='c')\n",
    "(R_scr,pvalue) = Result[0:2]\n",
    "(R_scr,pvalue) "
   ]
  },
  {
   "cell_type": "code",
   "execution_count": 62,
   "metadata": {},
   "outputs": [
    {
     "data": {
      "text/latex": [
       "$\\displaystyle \\left( -3049.27244871973, \\  0.0\\right)$"
      ],
      "text/plain": [
       "(-3049.272448719732, 0.0)"
      ]
     },
     "execution_count": 62,
     "metadata": {},
     "output_type": "execute_result"
    }
   ],
   "source": [
    "Result = stat.adfuller(dg, maxlag=None, regression='c', autolag='AIC')\n",
    "(R_scr,pvalue) = Result[0:2]\n",
    "(R_scr,pvalue) "
   ]
  },
  {
   "cell_type": "markdown",
   "metadata": {},
   "source": [
    "Actually we cannot reject or accept thesis about stationarity of the series, even if we can see that it stabilizes around $1$."
   ]
  },
  {
   "cell_type": "markdown",
   "metadata": {},
   "source": [
    "Lets check linear regresion then:"
   ]
  },
  {
   "cell_type": "code",
   "execution_count": 63,
   "metadata": {},
   "outputs": [
    {
     "data": {
      "text/plain": [
       "array([0.91674754, 0.00284251])"
      ]
     },
     "execution_count": 63,
     "metadata": {},
     "output_type": "execute_result"
    }
   ],
   "source": [
    "model = sm.OLS(dg,X)\n",
    "results = model.fit()\n",
    "results.params"
   ]
  },
  {
   "cell_type": "code",
   "execution_count": 64,
   "metadata": {},
   "outputs": [
    {
     "data": {
      "text/latex": [
       "$\\displaystyle \\left( 0.00284251328034384, \\  0.916747539408214, \\  0.417511295144212, \\  0.0048057395541288\\right)$"
      ],
      "text/plain": [
       "(0.0028425132803438446, 0.9167475394082137, 0.4175112951442122, 0.004805739554\n",
       "128797)"
      ]
     },
     "execution_count": 64,
     "metadata": {},
     "output_type": "execute_result"
    }
   ],
   "source": [
    "slope, intercept, r_value, p_value, std_err = sps.linregress(range(dg.size),dg)\n",
    "slope, intercept, r_value, p_value"
   ]
  },
  {
   "cell_type": "markdown",
   "metadata": {},
   "source": [
    "We can see that slope is minimal and above $0$, intercept close to $1$ and the p-value is way below $0.05$. So $f$ grows at least exponetially."
   ]
  },
  {
   "cell_type": "markdown",
   "metadata": {},
   "source": [
    "NOTE: Negative slope would be indicator that there is posibility of a smaller growth, but with spearman rank positive it should not happen."
   ]
  },
  {
   "cell_type": "markdown",
   "metadata": {},
   "source": [
    "### Example: $4x^2+1$"
   ]
  },
  {
   "cell_type": "code",
   "execution_count": 65,
   "metadata": {},
   "outputs": [
    {
     "data": {
      "text/plain": [
       "array([1.6225559 , 1.57766426, 0.93294137, 0.64632756, 0.4915153 ,\n",
       "       0.39572265, 0.33089144, 0.2841931 , 0.24898944, 0.22151706,\n",
       "       0.19948851, 0.1814354 , 0.16637274, 0.15361554, 0.14267287,\n",
       "       0.13318376, 0.12487692, 0.11754456, 0.11102484, 0.10518986,\n",
       "       0.0999372 , 0.09518387, 0.09086195, 0.08691529, 0.08329705,\n",
       "       0.07996791, 0.07689456, 0.07404861, 0.07140575, 0.06894498,\n",
       "       0.06664812, 0.06449932, 0.06248472, 0.06059213, 0.05881079,\n",
       "       0.05713118, 0.05554483, 0.05404417, 0.05262246, 0.05127362,\n",
       "       0.04999218, 0.04877323, 0.04761229, 0.04650534])"
      ]
     },
     "execution_count": 65,
     "metadata": {},
     "output_type": "execute_result"
    }
   ],
   "source": [
    "Polynomial_2   = np.asarray([4*np.power(x,2)+1 for x in range(50)])\n",
    "dg = np.transpose(d_g(Polynomial_2,100))\n",
    "X = range(dg.size)\n",
    "X = sm.add_constant(X)\n",
    "dg"
   ]
  },
  {
   "cell_type": "code",
   "execution_count": 66,
   "metadata": {},
   "outputs": [
    {
     "data": {
      "text/plain": [
       "SignificanceResult(statistic=-1.0, pvalue=0.0)"
      ]
     },
     "execution_count": 66,
     "metadata": {},
     "output_type": "execute_result"
    }
   ],
   "source": [
    "sps.spearmanr(range(dg.size),dg)"
   ]
  },
  {
   "cell_type": "markdown",
   "metadata": {},
   "source": [
    "We have low p-value so it is a monotonic series. The correlation is negative, so series is decreasing."
   ]
  },
  {
   "cell_type": "code",
   "execution_count": 67,
   "metadata": {},
   "outputs": [
    {
     "data": {
      "text/latex": [
       "$\\displaystyle \\left( 0.609030652276182, \\  0.0218153952476198\\right)$"
      ],
      "text/plain": [
       "(0.6090306522761818, 0.021815395247619832)"
      ]
     },
     "execution_count": 67,
     "metadata": {},
     "output_type": "execute_result"
    }
   ],
   "source": [
    "Result = stat.kpss(dg, regression='c')\n",
    "(R_scr,pvalue) = Result[0:2]\n",
    "(R_scr,pvalue) "
   ]
  },
  {
   "cell_type": "code",
   "execution_count": 68,
   "metadata": {},
   "outputs": [
    {
     "data": {
      "text/latex": [
       "$\\displaystyle \\left( -21.1203116045075, \\  0.0\\right)$"
      ],
      "text/plain": [
       "(-21.12031160450747, 0.0)"
      ]
     },
     "execution_count": 68,
     "metadata": {},
     "output_type": "execute_result"
    }
   ],
   "source": [
    "Result = stat.adfuller(dg, maxlag=None, regression='c', autolag='AIC')\n",
    "(R_scr,pvalue) = Result[0:2]\n",
    "(R_scr,pvalue) "
   ]
  },
  {
   "cell_type": "markdown",
   "metadata": {},
   "source": [
    "The tests suggest that values of the function are stationary. (The final values are already close to $0$, but this is not exactly valid argument since changes in coefficients could streach values of the last value without changing $\\mathcal{O}$ )"
   ]
  },
  {
   "cell_type": "code",
   "execution_count": 69,
   "metadata": {},
   "outputs": [
    {
     "data": {
      "text/plain": [
       "array([ 0.6021629 , -0.01765693])"
      ]
     },
     "execution_count": 69,
     "metadata": {},
     "output_type": "execute_result"
    }
   ],
   "source": [
    "model = sm.OLS(dg,X)\n",
    "results = model.fit()\n",
    "results.params"
   ]
  },
  {
   "cell_type": "code",
   "execution_count": 70,
   "metadata": {},
   "outputs": [
    {
     "data": {
      "text/latex": [
       "$\\displaystyle \\left( -0.0176569272295758, \\  0.602164669736599, \\  -0.648591527376374, \\  1.92524767051777 \\cdot 10^{-6}\\right)$"
      ],
      "text/plain": [
       "(-0.017656927229575837, 0.6021646697365991, -0.6485915273763738, 1.92524767051\n",
       "7773e-06)"
      ]
     },
     "execution_count": 70,
     "metadata": {},
     "output_type": "execute_result"
    }
   ],
   "source": [
    "slope, intercept, r_value, p_value, std_err = sps.linregress(np.array(range(dg.size))+0.0001,dg)\n",
    "slope, intercept, r_value, p_value"
   ]
  },
  {
   "cell_type": "markdown",
   "metadata": {},
   "source": [
    "Negative slope with low p-value, suggest we should reject hypothesis that $f$ is at least exponetial."
   ]
  },
  {
   "cell_type": "markdown",
   "metadata": {},
   "source": [
    "Let try to estimate the highest power of the polynomial."
   ]
  },
  {
   "cell_type": "code",
   "execution_count": 71,
   "metadata": {},
   "outputs": [
    {
     "data": {
      "text/plain": [
       "array([0.        , 1.60943791, 2.83321334, 3.61091791, 4.17438727,\n",
       "       4.61512052, 4.97673374, 5.28320373, 5.54907608, 5.78382518,\n",
       "       5.99396143, 6.18414889, 6.35784227, 6.51767127, 6.66568372,\n",
       "       6.80350526, 6.93244789, 7.05358573, 7.16780918, 7.2758646 ,\n",
       "       7.37838371, 7.47590597, 7.56889566, 7.65775527, 7.74283596,\n",
       "       7.82444593, 7.90285719, 7.97831097, 8.05102221, 8.12118324,\n",
       "       8.18896686, 8.25452888, 8.31801028, 8.37953903, 8.43923165,\n",
       "       8.49719454, 8.55352512, 8.60831278, 8.6616398 , 8.71358201,\n",
       "       8.76420951, 8.8135872 , 8.86177531, 8.90882979, 8.95480275,\n",
       "       8.99974279, 9.04369529, 9.08670273, 9.12880488, 9.17003908])"
      ]
     },
     "execution_count": 71,
     "metadata": {},
     "output_type": "execute_result"
    }
   ],
   "source": [
    "g = np.transpose(np.log(Polynomial_2))\n",
    "X = range(g.size)\n",
    "X = sm.add_constant(X)\n",
    "g"
   ]
  },
  {
   "cell_type": "code",
   "execution_count": 72,
   "metadata": {},
   "outputs": [],
   "source": [
    "Polynomial_2   = np.asarray([4*np.power(x,2)+1 for x in range(50)])\n",
    "def log_func(X,n,a):\n",
    "    return n * np.log(X) + a\n",
    "def exp_func(x, n, ln_a):\n",
    "    return np.power(x,n) * np.exp(ln_a)"
   ]
  },
  {
   "cell_type": "code",
   "execution_count": 73,
   "metadata": {},
   "outputs": [
    {
     "data": {
      "text/latex": [
       "$\\displaystyle \\left( 2.29945976849663, \\  0.30002695572116, \\  0.997765434428951, \\  4.50497729927441 \\cdot 10^{-58}\\right)$"
      ],
      "text/plain": [
       "(2.2994597684966256, 0.3000269557211599, 0.9977654344289512, 4.504977299274405\n",
       "4e-58)"
      ]
     },
     "execution_count": 73,
     "metadata": {},
     "output_type": "execute_result"
    }
   ],
   "source": [
    "slope, intercept, r_value, p_value, std_err = \\\n",
    "    sps.linregress(np.log(np.array(range(g.size))+1.1),g)\n",
    "params=slope, intercept\n",
    "slope, intercept, r_value, p_value"
   ]
  },
  {
   "cell_type": "markdown",
   "metadata": {},
   "source": [
    "Double check with algorithm from the [wolfram mathworld](http://mathworld.wolfram.com/LeastSquaresFittingLogarithmic.html)."
   ]
  },
  {
   "cell_type": "code",
   "execution_count": 74,
   "metadata": {},
   "outputs": [
    {
     "data": {
      "text/latex": [
       "$\\displaystyle \\left( 2.29945976849663, \\  0.300026955721146\\right)$"
      ],
      "text/plain": [
       "(2.29945976849663, 0.3000269557211459)"
      ]
     },
     "execution_count": 74,
     "metadata": {},
     "output_type": "execute_result"
    }
   ],
   "source": [
    "def log_linregress(X,Y):\n",
    "    n =  Y.size\n",
    "    logX = np.log(X)\n",
    "    num_b = n*(logX.dot(Y))- np.sum(logX) * np.sum(Y)\n",
    "    den_b = n*np.sum(np.power(logX,2))-(np.power(np.sum(logX),2))\n",
    "    slope = np.divide(num_b,den_b)\n",
    "    intercept = np.divide((np.sum(Y) - slope * np.sum(logX)),n)\n",
    "    return slope,intercept\n",
    "\n",
    "log_linregress(np.array(range(g.size))+1.1,g)"
   ]
  },
  {
   "cell_type": "code",
   "execution_count": 75,
   "metadata": {},
   "outputs": [
    {
     "data": {
      "image/png": "[encoded data removed]",
      "text/plain": [
       "<Figure size 800x400 with 1 Axes>"
      ]
     },
     "metadata": {},
     "output_type": "display_data"
    }
   ],
   "source": [
    "plt.figure(figsize=(8, 4))\n",
    "plt.scatter(np.array(range(g.size))+1.1, g, label='g')\n",
    "plt.plot(np.array(range(g.size))+1.1, log_func(np.array(range(g.size))+1.1, params[0], params[1]),\n",
    "         label='Fitted function g')\n",
    "plt.legend(loc='best')\n",
    "plt.show()"
   ]
  },
  {
   "cell_type": "code",
   "execution_count": 76,
   "metadata": {},
   "outputs": [
    {
     "data": {
      "image/png": "[encoded data removed]",
      "text/plain": [
       "<Figure size 800x400 with 1 Axes>"
      ]
     },
     "metadata": {},
     "output_type": "display_data"
    }
   ],
   "source": [
    "plt.figure(figsize=(8, 4))\n",
    "plt.scatter(np.array(range(g.size))+1.1, np.transpose(Polynomial_2), label='f')\n",
    "plt.plot(np.array(range(g.size))+1.1, exp_func(np.array(range(g.size))+1.1, params[0], params[1]),\n",
    "         label='Fitted function f')\n",
    "plt.legend(loc='best')\n",
    "plt.show()"
   ]
  },
  {
   "cell_type": "markdown",
   "metadata": {},
   "source": [
    "In the $f$ picture we can already see that we should check if the function grows exponetially, since in later values the exponetial function starts to grow much faster."
   ]
  },
  {
   "cell_type": "markdown",
   "metadata": {},
   "source": [
    " We compute the $2$nd and $3$rd derivate of $f$ based on the stencil method [link](http://web.media.mit.edu/~crtaylor/calculator.html)"
   ]
  },
  {
   "cell_type": "code",
   "execution_count": 77,
   "metadata": {},
   "outputs": [
    {
     "data": {
      "text/latex": [
       "$\\displaystyle \\left[ 8.0, \\  8.0, \\  8.0, \\  8.0, \\  8.0, \\  8.0, \\  8.0, \\  8.0, \\  8.0, \\  8.0, \\  8.0, \\  8.0, \\  8.0, \\  8.0, \\  8.0, \\  8.0, \\  8.0, \\  8.0, \\  8.0, \\  8.0, \\  8.0, \\  8.0, \\  8.0, \\  8.0, \\  8.0, \\  8.0, \\  8.0, \\  8.0, \\  8.0, \\  8.0, \\  8.0, \\  8.0, \\  8.0, \\  8.0, \\  8.0, \\  8.0, \\  8.0, \\  8.0, \\  8.0, \\  8.0, \\  8.0, \\  8.0, \\  8.0, \\  8.0\\right]$"
      ],
      "text/plain": [
       "[8.0, 8.0, 8.0, 8.0, 8.0, 8.0, 8.0, 8.0, 8.0, 8.0, 8.0, 8.0, 8.0, 8.0, 8.0, 8.\n",
       "0, 8.0, 8.0, 8.0, 8.0, 8.0, 8.0, 8.0, 8.0, 8.0, 8.0, 8.0, 8.0, 8.0, 8.0, 8.0, \n",
       "8.0, 8.0, 8.0, 8.0, 8.0, 8.0, 8.0, 8.0, 8.0, 8.0, 8.0, 8.0, 8.0]"
      ]
     },
     "execution_count": 77,
     "metadata": {},
     "output_type": "execute_result"
    }
   ],
   "source": [
    "def df_2(f,h):\n",
    "    f = np.float64(f)\n",
    "    h = np.float64(h)\n",
    "    df = lambda f, h:((45*f[0]-154*f[1]+214*f[2]-156*f[3]+61*f[4]-10*f[5])/(12*1.0*np.power(h,2)))\n",
    "    return [df(f[j:j+6], 1) for j in range(0,f.size-6)]\n",
    "\n",
    "df_2(Polynomial_2,100)"
   ]
  },
  {
   "cell_type": "code",
   "execution_count": 78,
   "metadata": {},
   "outputs": [],
   "source": [
    "def df_3(f,h):\n",
    "    f = np.float64(f)\n",
    "    h = np.float64(h)\n",
    "    df = lambda f, h:((-17*f[0]+71*f[1]-118*f[2]+98*f[3]-41*f[4]+7*f[5])/(4*1.0*np.power(h,3)))\n",
    "    return [df(f[j:j+6], 1) for j in range(0,f.size-6)]"
   ]
  },
  {
   "cell_type": "code",
   "execution_count": 79,
   "metadata": {},
   "outputs": [
    {
     "data": {
      "text/latex": [
       "$\\displaystyle \\left[ 0.0, \\  0.0, \\  0.0, \\  0.0, \\  0.0, \\  0.0, \\  0.0, \\  0.0, \\  0.0, \\  0.0, \\  0.0, \\  0.0, \\  0.0, \\  0.0, \\  0.0, \\  0.0, \\  0.0, \\  0.0, \\  0.0, \\  0.0, \\  0.0, \\  0.0, \\  0.0, \\  0.0, \\  0.0, \\  0.0, \\  0.0, \\  0.0, \\  0.0, \\  0.0, \\  0.0, \\  0.0, \\  0.0, \\  0.0, \\  0.0, \\  0.0, \\  0.0, \\  0.0, \\  0.0, \\  0.0, \\  0.0, \\  0.0, \\  0.0, \\  0.0\\right]$"
      ],
      "text/plain": [
       "[0.0, 0.0, 0.0, 0.0, 0.0, 0.0, 0.0, 0.0, 0.0, 0.0, 0.0, 0.0, 0.0, 0.0, 0.0, 0.\n",
       "0, 0.0, 0.0, 0.0, 0.0, 0.0, 0.0, 0.0, 0.0, 0.0, 0.0, 0.0, 0.0, 0.0, 0.0, 0.0, \n",
       "0.0, 0.0, 0.0, 0.0, 0.0, 0.0, 0.0, 0.0, 0.0, 0.0, 0.0, 0.0, 0.0]"
      ]
     },
     "execution_count": 79,
     "metadata": {},
     "output_type": "execute_result"
    }
   ],
   "source": [
    "df_3(Polynomial_2,100)"
   ]
  },
  {
   "cell_type": "markdown",
   "metadata": {},
   "source": [
    "$\\mathcal{O}(x^2)$ confirmed."
   ]
  },
  {
   "cell_type": "markdown",
   "metadata": {},
   "source": [
    "### Example: $x^{9}+1$"
   ]
  },
  {
   "cell_type": "code",
   "execution_count": 80,
   "metadata": {},
   "outputs": [
    {
     "data": {
      "text/plain": [
       "array([-7.4759333 ,  6.88871961,  4.43439504,  2.98624815,  2.24576562,\n",
       "        1.79839245,  1.49929662,  1.28537274,  1.12482032,  0.99989926,\n",
       "        0.8999405 ,  0.81814512,  0.74997653,  0.6922922 ,  0.64284663,\n",
       "        0.5999927 ,  0.56249482,  0.52940802,  0.49999725,  0.47368216,\n",
       "        0.44999845,  0.42857024,  0.40908999,  0.39130363,  0.37499943,\n",
       "        0.35999954,  0.34615348,  0.33333304,  0.32142833,  0.31034463,\n",
       "        0.29999984,  0.29032244,  0.28124989,  0.27272718,  0.2647058 ,\n",
       "        0.25714279,  0.24999994,  0.24324319,  0.23684206,  0.23076919,\n",
       "        0.22499997,  0.21951217,  0.21428569,  0.2093023 ])"
      ]
     },
     "execution_count": 80,
     "metadata": {},
     "output_type": "execute_result"
    }
   ],
   "source": [
    "Polynomial_12  = np.asarray([np.power(x,9)+1 for x in range(50)])\n",
    "dg = np.transpose(d_g(Polynomial_12,100))\n",
    "X = range(dg.size)\n",
    "X = sm.add_constant(X)\n",
    "dg"
   ]
  },
  {
   "cell_type": "code",
   "execution_count": 81,
   "metadata": {},
   "outputs": [
    {
     "data": {
      "text/plain": [
       "SignificanceResult(statistic=-0.8666666666666667, pvalue=2.902552001617057e-14)"
      ]
     },
     "execution_count": 81,
     "metadata": {},
     "output_type": "execute_result"
    }
   ],
   "source": [
    "sps.spearmanr(range(dg.size),dg)"
   ]
  },
  {
   "cell_type": "markdown",
   "metadata": {},
   "source": [
    "We have low p-value so it is a monotonic series. The correlation is negative, so the series is decreasing.\n",
    "<a id='highPoly'></a>"
   ]
  },
  {
   "cell_type": "code",
   "execution_count": 82,
   "metadata": {},
   "outputs": [
    {
     "data": {
      "text/latex": [
       "$\\displaystyle \\left( 0.368012039755311, \\  0.0909430863123658\\right)$"
      ],
      "text/plain": [
       "(0.36801203975531144, 0.09094308631236575)"
      ]
     },
     "execution_count": 82,
     "metadata": {},
     "output_type": "execute_result"
    }
   ],
   "source": [
    "Result = stat.kpss(dg, regression='c')\n",
    "(R_scr,pvalue) = Result[0:2]\n",
    "(R_scr,pvalue) "
   ]
  },
  {
   "cell_type": "code",
   "execution_count": 83,
   "metadata": {},
   "outputs": [
    {
     "data": {
      "text/latex": [
       "$\\displaystyle \\left( -19.0840677956117, \\  0.0\\right)$"
      ],
      "text/plain": [
       "(-19.084067795611702, 0.0)"
      ]
     },
     "execution_count": 83,
     "metadata": {},
     "output_type": "execute_result"
    }
   ],
   "source": [
    "Result = stat.adfuller(dg, maxlag=None, regression='c', autolag='AIC')\n",
    "(R_scr,pvalue) = Result[0:2]\n",
    "(R_scr,pvalue) "
   ]
  },
  {
   "cell_type": "markdown",
   "metadata": {},
   "source": [
    "The tests suggest that values of the function are stationary. (The final values are already close to $0$, but this is not exactly valid argument since changes in coefficients could streach values of the last value without changing $\\mathcal{O}$ )"
   ]
  },
  {
   "cell_type": "code",
   "execution_count": 84,
   "metadata": {},
   "outputs": [
    {
     "data": {
      "text/plain": [
       "array([ 1.42462432, -0.03510295])"
      ]
     },
     "execution_count": 84,
     "metadata": {},
     "output_type": "execute_result"
    }
   ],
   "source": [
    "model = sm.OLS(dg,X)\n",
    "results = model.fit()\n",
    "results.params"
   ]
  },
  {
   "cell_type": "code",
   "execution_count": 85,
   "metadata": {},
   "outputs": [
    {
     "data": {
      "text/latex": [
       "$\\displaystyle \\left( -0.0351029537327277, \\  1.42462782547266, \\  -0.256118095520062, \\  0.0933262587362536\\right)$"
      ],
      "text/plain": [
       "(-0.03510295373272774, 1.4246278254726623, -0.25611809552006204, 0.09332625873\n",
       "625364)"
      ]
     },
     "execution_count": 85,
     "metadata": {},
     "output_type": "execute_result"
    }
   ],
   "source": [
    "slope, intercept, r_value, p_value, std_err = sps.linregress(np.array(range(dg.size))+0.0001,dg)\n",
    "slope, intercept, r_value, p_value"
   ]
  },
  {
   "cell_type": "markdown",
   "metadata": {},
   "source": [
    "Negative slope with low p-value, suggest we cannot reject hypothesis that $f$ is not at least exponetial. We will try to show that it is polynomial."
   ]
  },
  {
   "cell_type": "markdown",
   "metadata": {},
   "source": [
    "Let try to estimate the highest power of the polynomial."
   ]
  },
  {
   "cell_type": "code",
   "execution_count": 86,
   "metadata": {},
   "outputs": [
    {
     "data": {
      "text/plain": [
       "array([ 0.        ,  0.69314718,  6.24027585,  9.8875614 , 12.47665306,\n",
       "       14.48494172, 16.12583532, 17.51319137, 18.71497388, 19.7750212 ,\n",
       "       20.72326584, 21.58105746, 22.36415985, 23.08454422, 23.75151597,\n",
       "       24.37245181, 24.9532985 , 25.4989201 , 26.01334582, 26.49995081,\n",
       "       26.96159046, 27.40070194, 27.81938208, 28.21944794, 28.60248447,\n",
       "       28.96988242, 29.32286884, 29.66253179, 29.98984059, 30.30566247,\n",
       "       30.61077643, 30.90588484, 31.19162313, 31.46856805, 31.73724472,\n",
       "       31.99813255, 32.25167045, 32.49826121, 32.73827544, 32.97205482,\n",
       "       33.19991509, 33.4221486 , 33.63902656, 33.85080104, 34.05770671,\n",
       "       34.25996241, 34.45777257, 34.65132842, 34.8408091 , 35.02638268])"
      ]
     },
     "execution_count": 86,
     "metadata": {},
     "output_type": "execute_result"
    }
   ],
   "source": [
    "g = np.transpose(np.log(Polynomial_12))\n",
    "X = range(g.size)\n",
    "X = sm.add_constant(X)\n",
    "g"
   ]
  },
  {
   "cell_type": "code",
   "execution_count": 87,
   "metadata": {},
   "outputs": [
    {
     "data": {
      "text/latex": [
       "$\\displaystyle \\left( 9.91264799775338, \\  -3.48808138271048, \\  0.99714271115381, \\  1.63293310280294 \\cdot 10^{-55}\\right)$"
      ],
      "text/plain": [
       "(9.91264799775338, -3.488081382710483, 0.9971427111538098, 1.6329331028029416e\n",
       "-55)"
      ]
     },
     "execution_count": 87,
     "metadata": {},
     "output_type": "execute_result"
    }
   ],
   "source": [
    "slope, intercept, r_value, p_value, std_err = \\\n",
    "    sps.linregress(np.log(np.array(range(g.size))+1.1),g)\n",
    "params=slope, intercept\n",
    "slope, intercept, r_value, p_value"
   ]
  },
  {
   "cell_type": "code",
   "execution_count": 88,
   "metadata": {},
   "outputs": [
    {
     "data": {
      "text/latex": [
       "$\\displaystyle \\left( 9.91264799775336, \\  -3.48808138271042\\right)$"
      ],
      "text/plain": [
       "(9.912647997753359, -3.4880813827104205)"
      ]
     },
     "execution_count": 88,
     "metadata": {},
     "output_type": "execute_result"
    }
   ],
   "source": [
    "log_linregress(np.array(range(g.size))+1.1,g)"
   ]
  },
  {
   "cell_type": "code",
   "execution_count": 89,
   "metadata": {},
   "outputs": [
    {
     "data": {
      "image/png": "[encoded data removed]",
      "text/plain": [
       "<Figure size 800x400 with 1 Axes>"
      ]
     },
     "metadata": {},
     "output_type": "display_data"
    }
   ],
   "source": [
    "plt.figure(figsize=(8, 4))\n",
    "plt.scatter(np.array(range(g.size))+1.1, g, label='g')\n",
    "plt.plot(np.array(range(g.size))+1.1, log_func(np.array(range(g.size))+1.1, params[0], params[1]),\n",
    "         label='Fitted function g')\n",
    "plt.legend(loc='best')\n",
    "plt.show()"
   ]
  },
  {
   "cell_type": "code",
   "execution_count": 90,
   "metadata": {},
   "outputs": [
    {
     "data": {
      "image/png": "[encoded data removed]",
      "text/plain": [
       "<Figure size 800x400 with 1 Axes>"
      ]
     },
     "metadata": {},
     "output_type": "display_data"
    }
   ],
   "source": [
    "plt.figure(figsize=(8, 4))\n",
    "plt.scatter(np.array(range(g.size))+1.1, np.transpose(Polynomial_12), label='f')\n",
    "plt.plot(np.array(range(g.size))+1.1, exp_func(np.array(range(g.size))+1.1, params[0], params[1]),\n",
    "         label='Fitted function f')\n",
    "\n",
    "plt.legend(loc='best')\n",
    "plt.show()"
   ]
  },
  {
   "cell_type": "markdown",
   "metadata": {},
   "source": [
    " We compute the $9$th and $10$th derivate of $f$ based on the stencil method [link](http://web.media.mit.edu/~crtaylor/calculator.html)"
   ]
  },
  {
   "cell_type": "code",
   "execution_count": 91,
   "metadata": {},
   "outputs": [
    {
     "data": {
      "text/plain": [
       "array([362880., 362880., 362880., 362880., 362880., 362880., 362880.,\n",
       "       362880., 362880., 362880., 362880., 362880., 362880., 362880.,\n",
       "       362880., 362880., 362880., 362880., 362880., 362880., 362880.,\n",
       "       362880., 362880., 362880., 362880., 362880., 362880., 362880.,\n",
       "       362880., 362880., 362880., 362880., 362880., 362883., 362879.,\n",
       "       362881., 362881., 362879., 362883., 362877.])"
      ]
     },
     "execution_count": 91,
     "metadata": {},
     "output_type": "execute_result"
    }
   ],
   "source": [
    "def df_9(f,h):\n",
    "    f = np.float64(f)\n",
    "    h = np.float64(h)\n",
    "    df = lambda f, h:(-1*f[0]+9*f[1]-36*f[2]+84*f[3]-126*f[4]+126*f[5]-84*f[6]+36*f[7]-9*f[8]+1*f[9])/(1*1.0*np.power(h,9))\n",
    "    return [df(f[j:j+10], 1) for j in range(0,f.size-10)]\n",
    "\n",
    "df9 = np.array(df_9(Polynomial_12,100))\n",
    "df9"
   ]
  },
  {
   "cell_type": "code",
   "execution_count": 92,
   "metadata": {},
   "outputs": [
    {
     "data": {
      "image/png": "[encoded data removed]",
      "text/plain": [
       "<Figure size 800x400 with 1 Axes>"
      ]
     },
     "metadata": {},
     "output_type": "display_data"
    }
   ],
   "source": [
    "plt.figure(figsize=(8, 4))\n",
    "plt.scatter(np.array(range(df9.size))+0.1, df9, label='f')\n",
    "plt.plot(np.array(range(df9.size))+0.1, np.array(np.repeat(np.mean(df9),df9.size)),\n",
    "         label='Fitted function f')\n",
    "\n",
    "plt.legend(loc='best')\n",
    "plt.show()"
   ]
  },
  {
   "cell_type": "code",
   "execution_count": 93,
   "metadata": {},
   "outputs": [
    {
     "data": {
      "text/plain": [
       "array([  0.,   0.,   0.,   0.,   0.,   0.,   0.,   0.,   0.,   0.,   0.,\n",
       "         0.,   0.,   0.,   0.,   0.,   0.,   0.,   0.,   0.,   0.,   0.,\n",
       "         0.,   0.,   0.,   0.,   0.,   0.,   0.,   0.,  -2.,   0.,  -7.,\n",
       "        -4.,  -3.,  -8., -15.,  -2.,   1.])"
      ]
     },
     "execution_count": 93,
     "metadata": {},
     "output_type": "execute_result"
    }
   ],
   "source": [
    "def df_10(f,h):\n",
    "    f = np.float64(f)\n",
    "    h = np.float64(h)\n",
    "    df = lambda f, h: \\\n",
    "    (1*f[0]-10*f[1]+45*f[2]-120*f[3]+210*f[4]-252*f[5]+210*f[6]-120*f[7]+45*f[8]-10*f[9]+1*f[10])\\\n",
    "    /(1*1.0*np.power(h,10))\n",
    "    return [df(f[j:j+11], 1) for j in range(0,f.size-11)]\n",
    "\n",
    "df10 = np.array(df_10(Polynomial_12,100))\n",
    "df10"
   ]
  },
  {
   "cell_type": "code",
   "execution_count": 94,
   "metadata": {},
   "outputs": [
    {
     "data": {
      "text/plain": [
       "TtestResult(statistic=-2.170312697477995, pvalue=0.036300258703963376, df=38)"
      ]
     },
     "execution_count": 94,
     "metadata": {},
     "output_type": "execute_result"
    }
   ],
   "source": [
    "sc.stats.ttest_1samp(df10, 0)"
   ]
  },
  {
   "cell_type": "markdown",
   "metadata": {},
   "source": [
    "Quite interesting average doesn't pass a t-test for the mean of $0$."
   ]
  },
  {
   "cell_type": "markdown",
   "metadata": {},
   "source": [
    "But when we compare $10$th and $9$th derivate we will get conclusion."
   ]
  },
  {
   "cell_type": "code",
   "execution_count": 95,
   "metadata": {},
   "outputs": [
    {
     "data": {
      "text/latex": [
       "$\\displaystyle 5.31505037507648 \\cdot 10^{-5}$"
      ],
      "text/plain": [
       "5.315050375076482e-05"
      ]
     },
     "execution_count": 95,
     "metadata": {},
     "output_type": "execute_result"
    }
   ],
   "source": [
    "np.linalg.norm(np.divide(df10,df9[:-1]))"
   ]
  },
  {
   "cell_type": "markdown",
   "metadata": {},
   "source": [
    "NOTE: The assumption that we deal with growing function and polynomial is important here. In that case we know that $10$th derivative is $0$, $9$th is constant and $8$th is linear with significant slope (if slope is not significant then $9$th will be close to $0$)."
   ]
  },
  {
   "cell_type": "markdown",
   "metadata": {},
   "source": [
    "We can just go for polynomial regression and check residuals."
   ]
  },
  {
   "cell_type": "code",
   "execution_count": 96,
   "metadata": {},
   "outputs": [
    {
     "data": {
      "text/plain": [
       "array([3.78438246e+21])"
      ]
     },
     "execution_count": 96,
     "metadata": {},
     "output_type": "execute_result"
    }
   ],
   "source": [
    "(coef, residuals, rank, singular_values, rcond) = \\\n",
    "np.polyfit(np.array(range(g.size))+1.1, np.transpose(Polynomial_12), 8, full=True)\n",
    "residuals"
   ]
  },
  {
   "cell_type": "code",
   "execution_count": 97,
   "metadata": {},
   "outputs": [
    {
     "data": {
      "text/plain": [
       "array([0.22709397])"
      ]
     },
     "execution_count": 97,
     "metadata": {},
     "output_type": "execute_result"
    }
   ],
   "source": [
    "(coef, residuals, rank, singular_values, rcond) = \\\n",
    "np.polyfit(np.array(range(g.size))+1.1, np.transpose(Polynomial_12), 10, full=True)\n",
    "residuals"
   ]
  },
  {
   "cell_type": "code",
   "execution_count": 98,
   "metadata": {},
   "outputs": [
    {
     "data": {
      "text/plain": [
       "array([0.1553157])"
      ]
     },
     "execution_count": 98,
     "metadata": {},
     "output_type": "execute_result"
    }
   ],
   "source": [
    "(coef, residuals, rank, singular_values, rcond) = \\\n",
    "np.polyfit(np.array(range(g.size))+1.1, np.transpose(Polynomial_12), 9, full=True)\n",
    "residuals"
   ]
  },
  {
   "cell_type": "code",
   "execution_count": 99,
   "metadata": {},
   "outputs": [
    {
     "data": {
      "image/png": "[encoded data removed]",
      "text/plain": [
       "<Figure size 800x400 with 1 Axes>"
      ]
     },
     "metadata": {},
     "output_type": "display_data"
    }
   ],
   "source": [
    "plt.figure(figsize=(8, 4))\n",
    "plt.scatter(np.array(range(g.size))+1.1, np.transpose(Polynomial_12), label='f')\n",
    "plt.plot(np.array(range(g.size))+1.1, np.polyval(coef, np.array(range(g.size))+1.1),\n",
    "         label='Fitted function f')\n",
    "\n",
    "plt.legend(loc='best')\n",
    "plt.show()"
   ]
  },
  {
   "cell_type": "markdown",
   "metadata": {},
   "source": [
    "So polynomial with degree $9$ fits not much worse than with degree $10$, but degree $8$ is not enough."
   ]
  },
  {
   "cell_type": "markdown",
   "metadata": {},
   "source": [
    "Two time the same conclusion, should be ok."
   ]
  },
  {
   "cell_type": "markdown",
   "metadata": {},
   "source": [
    "#### Lets try add a little errors, since we obviously will get them in a product environment."
   ]
  },
  {
   "cell_type": "markdown",
   "metadata": {},
   "source": [
    "### Example: $e^x+1$ with added error"
   ]
  },
  {
   "cell_type": "code",
   "execution_count": 100,
   "metadata": {},
   "outputs": [
    {
     "data": {
      "text/plain": [
       "array([0.53651116, 0.70586561, 0.86641907, 0.96046741, 0.98048735,\n",
       "       0.99326198, 0.99793674, 0.99901312, 0.99970529, 0.99989157,\n",
       "       0.9999406 , 0.99998867, 0.99999321, 0.99999783, 0.99999917,\n",
       "       0.99999968, 0.99999989, 0.99999996, 0.99999998, 1.        ,\n",
       "       1.        , 1.        , 1.        , 1.        , 1.        ,\n",
       "       1.        , 1.        , 1.        , 1.        , 1.        ,\n",
       "       1.        , 1.        , 1.        , 1.        , 1.        ,\n",
       "       1.        , 1.        , 1.        , 1.        , 1.        ,\n",
       "       1.        , 1.        , 1.        , 1.        ])"
      ]
     },
     "execution_count": 100,
     "metadata": {},
     "output_type": "execute_result"
    }
   ],
   "source": [
    "Exponential_2 = np.asarray([np.exp(x)+1 for x in range(50)])\n",
    "Exponential_2 = Exponential_2 + 0.05 * np.random.normal(size=Exponential_2.size)\n",
    "dg = np.transpose(d_g(Exponential_2,100))\n",
    "X = range(dg.size)\n",
    "X = sm.add_constant(X)\n",
    "dg\n"
   ]
  },
  {
   "cell_type": "code",
   "execution_count": 101,
   "metadata": {},
   "outputs": [
    {
     "data": {
      "text/plain": [
       "SignificanceResult(statistic=0.9913654818079233, pvalue=1.082667291052979e-38)"
      ]
     },
     "execution_count": 101,
     "metadata": {},
     "output_type": "execute_result"
    }
   ],
   "source": [
    "sps.spearmanr(range(dg.size),dg)"
   ]
  },
  {
   "cell_type": "markdown",
   "metadata": {},
   "source": [
    "The same situation as in the example [without error](#eXplus1). So $f$ grows at least exponetially."
   ]
  },
  {
   "cell_type": "code",
   "execution_count": 102,
   "metadata": {},
   "outputs": [
    {
     "data": {
      "text/latex": [
       "$\\displaystyle \\left( 0.422409893669622, \\  0.0674957354872317\\right)$"
      ],
      "text/plain": [
       "(0.42240989366962245, 0.0674957354872317)"
      ]
     },
     "execution_count": 102,
     "metadata": {},
     "output_type": "execute_result"
    }
   ],
   "source": [
    "Result = stat.kpss(dg, regression='c')\n",
    "(R_scr,pvalue) = Result[0:2]\n",
    "(R_scr,pvalue) "
   ]
  },
  {
   "cell_type": "code",
   "execution_count": 103,
   "metadata": {},
   "outputs": [
    {
     "data": {
      "text/latex": [
       "$\\displaystyle \\left( -5.53229351399408, \\  1.77633740722282 \\cdot 10^{-6}\\right)$"
      ],
      "text/plain": [
       "(-5.532293513994077, 1.776337407222822e-06)"
      ]
     },
     "execution_count": 103,
     "metadata": {},
     "output_type": "execute_result"
    }
   ],
   "source": [
    "Result = stat.adfuller(dg, maxlag=None, regression='c', autolag='AIC')\n",
    "(R_scr,pvalue) = Result[0:2]\n",
    "(R_scr,pvalue) "
   ]
  },
  {
   "cell_type": "markdown",
   "metadata": {},
   "source": [
    "What is very interesting, for me adding normal errors made augmented Dickey–Fuller test to work. We can now state that the series is stationary."
   ]
  },
  {
   "cell_type": "markdown",
   "metadata": {},
   "source": [
    "Lets check linear regresion then, we want to know intercept:"
   ]
  },
  {
   "cell_type": "code",
   "execution_count": 104,
   "metadata": {},
   "outputs": [
    {
     "data": {
      "text/plain": [
       "array([0.91806053, 0.00279579])"
      ]
     },
     "execution_count": 104,
     "metadata": {},
     "output_type": "execute_result"
    }
   ],
   "source": [
    "model = sm.OLS(dg,X)\n",
    "results = model.fit()\n",
    "results.params"
   ]
  },
  {
   "cell_type": "code",
   "execution_count": 105,
   "metadata": {},
   "outputs": [
    {
     "data": {
      "text/latex": [
       "$\\displaystyle \\left( 0.00279578764523249, \\  0.918060526647165, \\  0.429803604458678, \\  0.00359427446093474\\right)$"
      ],
      "text/plain": [
       "(0.0027957876452324917, 0.9180605266471646, 0.4298036044586777, 0.003594274460\n",
       "9347393)"
      ]
     },
     "execution_count": 105,
     "metadata": {},
     "output_type": "execute_result"
    }
   ],
   "source": [
    "slope, intercept, r_value, p_value, std_err = sps.linregress(range(dg.size),dg)\n",
    "slope, intercept, r_value, p_value"
   ]
  },
  {
   "cell_type": "markdown",
   "metadata": {},
   "source": [
    "Intercept above $0$, the p-value is way below $0.05$. So $f$ grows at least exponetially."
   ]
  },
  {
   "cell_type": "markdown",
   "metadata": {},
   "source": [
    "### Example: $x^{9}+1$ with added error"
   ]
  },
  {
   "cell_type": "code",
   "execution_count": 106,
   "metadata": {},
   "outputs": [
    {
     "data": {
      "text/plain": [
       "array([-7.45048418,  6.85523491,  4.43469542,  2.98624025,  2.24576481,\n",
       "        1.79839242,  1.49929664,  1.28537274,  1.12482032,  0.99989926,\n",
       "        0.8999405 ,  0.81814512,  0.74997653,  0.6922922 ,  0.64284663,\n",
       "        0.5999927 ,  0.56249482,  0.52940802,  0.49999725,  0.47368216,\n",
       "        0.44999845,  0.42857024,  0.40908999,  0.39130363,  0.37499943,\n",
       "        0.35999954,  0.34615348,  0.33333304,  0.32142833,  0.31034463,\n",
       "        0.29999984,  0.29032244,  0.28124989,  0.27272718,  0.2647058 ,\n",
       "        0.25714279,  0.24999994,  0.24324319,  0.23684206,  0.23076919,\n",
       "        0.22499997,  0.21951217,  0.21428569,  0.2093023 ])"
      ]
     },
     "execution_count": 106,
     "metadata": {},
     "output_type": "execute_result"
    }
   ],
   "source": [
    "Polynomial_12  = np.asarray([np.power(x,9)+1 for x in range(50)])\n",
    "Polynomial_12 = Polynomial_12 + 0.05 * np.random.normal(size=Polynomial_12.size)\n",
    "dg = np.transpose(d_g(Polynomial_12,100))\n",
    "X = range(dg.size)\n",
    "X = sm.add_constant(X)\n",
    "dg"
   ]
  },
  {
   "cell_type": "code",
   "execution_count": 107,
   "metadata": {},
   "outputs": [
    {
     "data": {
      "text/plain": [
       "SignificanceResult(statistic=-0.8666666666666667, pvalue=2.902552001617057e-14)"
      ]
     },
     "execution_count": 107,
     "metadata": {},
     "output_type": "execute_result"
    }
   ],
   "source": [
    "sps.spearmanr(range(dg.size),dg)"
   ]
  },
  {
   "cell_type": "markdown",
   "metadata": {},
   "source": [
    "As in not error [case](#highPoly). We have low p-value so it is a monotonic series. The correlation is negative, so series is decreasing."
   ]
  },
  {
   "cell_type": "code",
   "execution_count": 108,
   "metadata": {},
   "outputs": [
    {
     "data": {
      "text/latex": [
       "$\\displaystyle \\left( 0.369064070352224, \\  0.0904896248481794\\right)$"
      ],
      "text/plain": [
       "(0.36906407035222377, 0.0904896248481794)"
      ]
     },
     "execution_count": 108,
     "metadata": {},
     "output_type": "execute_result"
    }
   ],
   "source": [
    "import warnings\n",
    "warnings.filterwarnings('ignore')\n",
    "Result = stat.kpss(dg, regression='c')\n",
    "warnings.filterwarnings('always')     \n",
    "\n",
    "(R_scr,pvalue) = Result[0:2]\n",
    "(R_scr,pvalue) "
   ]
  },
  {
   "cell_type": "code",
   "execution_count": 109,
   "metadata": {},
   "outputs": [
    {
     "data": {
      "text/latex": [
       "$\\displaystyle \\left( -17.4161756968351, \\  4.85475069557457 \\cdot 10^{-30}\\right)$"
      ],
      "text/plain": [
       "(-17.41617569683512, 4.854750695574575e-30)"
      ]
     },
     "execution_count": 109,
     "metadata": {},
     "output_type": "execute_result"
    }
   ],
   "source": [
    "Result = stat.adfuller(dg, maxlag=None, regression='c', autolag='AIC')\n",
    "(R_scr,pvalue) = Result[0:2]\n",
    "(R_scr,pvalue) "
   ]
  },
  {
   "cell_type": "markdown",
   "metadata": {},
   "source": [
    "Hard to get conclusions here, p-value changes from run to run for me."
   ]
  },
  {
   "cell_type": "code",
   "execution_count": 110,
   "metadata": {},
   "outputs": [
    {
     "data": {
      "text/plain": [
       "array([ 1.42404352, -0.03508413])"
      ]
     },
     "execution_count": 110,
     "metadata": {},
     "output_type": "execute_result"
    }
   ],
   "source": [
    "model = sm.OLS(dg,X)\n",
    "results = model.fit()\n",
    "results.params"
   ]
  },
  {
   "cell_type": "code",
   "execution_count": 111,
   "metadata": {},
   "outputs": [
    {
     "data": {
      "text/latex": [
       "$\\displaystyle \\left( -0.0350841259398672, \\  1.42404702802325, \\  -0.256778714319462, \\  0.0924552014092554\\right)$"
      ],
      "text/plain": [
       "(-0.03508412593986718, 1.424047028023249, -0.25677871431946203, 0.092455201409\n",
       "25537)"
      ]
     },
     "execution_count": 111,
     "metadata": {},
     "output_type": "execute_result"
    }
   ],
   "source": [
    "slope, intercept, r_value, p_value, std_err = sps.linregress(np.array(range(dg.size))+0.0001,dg)\n",
    "slope, intercept, r_value, p_value"
   ]
  },
  {
   "cell_type": "markdown",
   "metadata": {},
   "source": [
    "Negative slope with low p-value (not always). We cannot reject hypothesis that growth $f$ is not at least exponetial anyway. We will try to show that it is polynomial."
   ]
  },
  {
   "cell_type": "markdown",
   "metadata": {},
   "source": [
    "Let try to estimate the highest power of the polynomial."
   ]
  },
  {
   "cell_type": "code",
   "execution_count": 112,
   "metadata": {},
   "outputs": [
    {
     "data": {
      "text/plain": [
       "array([2.06333881e-02, 7.07533802e-01, 6.24015281e+00, 9.88756566e+00,\n",
       "       1.24766534e+01, 1.44849417e+01, 1.61258353e+01, 1.75131914e+01,\n",
       "       1.87149739e+01, 1.97750212e+01, 2.07232658e+01, 2.15810575e+01,\n",
       "       2.23641598e+01, 2.30845442e+01, 2.37515160e+01, 2.43724518e+01,\n",
       "       2.49532985e+01, 2.54989201e+01, 2.60133458e+01, 2.64999508e+01,\n",
       "       2.69615905e+01, 2.74007019e+01, 2.78193821e+01, 2.82194479e+01,\n",
       "       2.86024845e+01, 2.89698824e+01, 2.93228688e+01, 2.96625318e+01,\n",
       "       2.99898406e+01, 3.03056625e+01, 3.06107764e+01, 3.09058848e+01,\n",
       "       3.11916231e+01, 3.14685681e+01, 3.17372447e+01, 3.19981326e+01,\n",
       "       3.22516704e+01, 3.24982612e+01, 3.27382754e+01, 3.29720548e+01,\n",
       "       3.31999151e+01, 3.34221486e+01, 3.36390266e+01, 3.38508010e+01,\n",
       "       3.40577067e+01, 3.42599624e+01, 3.44577726e+01, 3.46513284e+01,\n",
       "       3.48408091e+01, 3.50263827e+01])"
      ]
     },
     "execution_count": 112,
     "metadata": {},
     "output_type": "execute_result"
    }
   ],
   "source": [
    "g = np.transpose(np.log(Polynomial_12))\n",
    "X = range(g.size)\n",
    "X = sm.add_constant(X)\n",
    "g"
   ]
  },
  {
   "cell_type": "code",
   "execution_count": 113,
   "metadata": {},
   "outputs": [
    {
     "data": {
      "text/latex": [
       "$\\displaystyle \\left( 9.91021859554036, \\  -3.48014762233381, \\  0.997139385954258, \\  1.67909523559662 \\cdot 10^{-55}\\right)$"
      ],
      "text/plain": [
       "(9.910218595540357, -3.4801476223338135, 0.9971393859542578, 1.679095235596622\n",
       "4e-55)"
      ]
     },
     "execution_count": 113,
     "metadata": {},
     "output_type": "execute_result"
    }
   ],
   "source": [
    "slope, intercept, r_value, p_value, std_err = \\\n",
    "    sps.linregress(np.log(np.array(range(g.size))+1.1),g)\n",
    "params=slope, intercept\n",
    "slope, intercept, r_value, p_value"
   ]
  },
  {
   "cell_type": "code",
   "execution_count": 114,
   "metadata": {},
   "outputs": [
    {
     "data": {
      "text/latex": [
       "$\\displaystyle \\left( 9.91021859554033, \\  -3.48014762233373\\right)$"
      ],
      "text/plain": [
       "(9.91021859554033, -3.480147622333734)"
      ]
     },
     "execution_count": 114,
     "metadata": {},
     "output_type": "execute_result"
    }
   ],
   "source": [
    "log_linregress(np.array(range(g.size))+1.1,g)"
   ]
  },
  {
   "cell_type": "code",
   "execution_count": 115,
   "metadata": {},
   "outputs": [
    {
     "data": {
      "image/png": "[encoded data removed]",
      "text/plain": [
       "<Figure size 800x400 with 1 Axes>"
      ]
     },
     "metadata": {},
     "output_type": "display_data"
    }
   ],
   "source": [
    "plt.figure(figsize=(8, 4))\n",
    "plt.scatter(np.array(range(g.size))+1.1, g, label='g')\n",
    "plt.plot(np.array(range(g.size))+1.1, log_func(np.array(range(g.size))+1.1, params[0], params[1]),\n",
    "         label='Fitted function g')\n",
    "plt.legend(loc='best')\n",
    "plt.show()"
   ]
  },
  {
   "cell_type": "code",
   "execution_count": 116,
   "metadata": {},
   "outputs": [
    {
     "data": {
      "image/png": "[encoded data removed]",
      "text/plain": [
       "<Figure size 800x400 with 1 Axes>"
      ]
     },
     "metadata": {},
     "output_type": "display_data"
    }
   ],
   "source": [
    "plt.figure(figsize=(8, 4))\n",
    "plt.scatter(np.array(range(g.size))+1.1, np.transpose(Polynomial_12), label='f')\n",
    "plt.plot(np.array(range(g.size))+1.1, exp_func(np.array(range(g.size))+1.1, params[0], params[1]),\n",
    "         label='Fitted function f')\n",
    "plt.legend(loc='best')\n",
    "plt.show()"
   ]
  },
  {
   "cell_type": "markdown",
   "metadata": {},
   "source": [
    " We compute the $9$th and $10$th derivate of $f$ based on the stencil method [link](http://web.media.mit.edu/~crtaylor/calculator.html)"
   ]
  },
  {
   "cell_type": "code",
   "execution_count": 117,
   "metadata": {},
   "outputs": [
    {
     "data": {
      "text/plain": [
       "array([362883.67419165, 362873.88336229, 362889.58447742, 362870.3920269 ,\n",
       "       362887.61327362, 362874.01914597, 362883.95391083, 362878.62356567,\n",
       "       362881.550354  , 362873.49853516, 362892.4329834 , 362866.07873535,\n",
       "       362890.3112793 , 362875.26147461, 362879.74560547, 362883.80957031,\n",
       "       362874.00927734, 362887.34960938, 362871.52050781, 362889.578125  ,\n",
       "       362870.453125  , 362887.125     , 362877.140625  , 362879.734375  ,\n",
       "       362879.5546875 , 362884.3359375 , 362870.71875   , 362893.046875  ,\n",
       "       362864.734375  , 362894.78125   , 362867.6875    , 362888.46875   ,\n",
       "       362875.5       , 362885.        , 362874.9375    , 362890.        ,\n",
       "       362877.        , 362883.        , 362875.        , 362893.        ])"
      ]
     },
     "execution_count": 117,
     "metadata": {},
     "output_type": "execute_result"
    }
   ],
   "source": [
    "df9 = np.array(df_9(Polynomial_12,100))\n",
    "df9"
   ]
  },
  {
   "cell_type": "code",
   "execution_count": 118,
   "metadata": {},
   "outputs": [
    {
     "data": {
      "image/png": "[encoded data removed]",
      "text/plain": [
       "<Figure size 800x400 with 1 Axes>"
      ]
     },
     "metadata": {},
     "output_type": "display_data"
    }
   ],
   "source": [
    "plt.figure(figsize=(8, 4))\n",
    "plt.scatter(np.array(range(df9.size))+0.1, df9, label='f')\n",
    "plt.plot(np.array(range(df9.size))+0.1, np.array(np.repeat(np.mean(df9),df9.size)),\n",
    "         label='Fitted function f')\n",
    "plt.legend(loc='best')\n",
    "plt.show()"
   ]
  },
  {
   "cell_type": "code",
   "execution_count": 119,
   "metadata": {},
   "outputs": [
    {
     "data": {
      "text/plain": [
       "array([-9.79082918e+00,  1.57011175e+01, -1.91924534e+01,  1.72212448e+01,\n",
       "       -1.35941200e+01,  9.93477631e+00, -5.33016968e+00,  2.92657471e+00,\n",
       "       -8.05151367e+00,  1.89337158e+01, -2.63543701e+01,  2.42263184e+01,\n",
       "       -1.50422363e+01,  4.48193359e+00,  4.06933594e+00, -9.79541016e+00,\n",
       "        1.33222656e+01, -1.57841797e+01,  1.80234375e+01, -1.91875000e+01,\n",
       "        1.65156250e+01, -9.89062500e+00,  2.51562500e+00, -7.81250000e-03,\n",
       "        4.08593750e+00, -1.35937500e+01,  2.29218750e+01, -2.82656250e+01,\n",
       "        2.92812500e+01, -2.73125000e+01,  1.74687500e+01, -1.35000000e+01,\n",
       "        1.30000000e+01, -1.60625000e+01,  1.00000000e+01, -2.80000000e+01,\n",
       "       -7.00000000e+00, -1.80000000e+01,  1.70000000e+01])"
      ]
     },
     "execution_count": 119,
     "metadata": {},
     "output_type": "execute_result"
    }
   ],
   "source": [
    "def df_10(f,h):\n",
    "    f = np.float64(f)\n",
    "    h = np.float64(h)\n",
    "    df = lambda f, h: \\\n",
    "    (1*f[0]-10*f[1]+45*f[2]-120*f[3]+210*f[4]-252*f[5]+210*f[6]-120*f[7]+45*f[8]-10*f[9]+1*f[10])\\\n",
    "    /(1*1.0*np.power(h,10))\n",
    "    return [df(f[j:j+11], 1) for j in range(0,f.size-11)]\n",
    "\n",
    "df10 = np.array(df_10(Polynomial_12,100))\n",
    "df10"
   ]
  },
  {
   "cell_type": "code",
   "execution_count": 120,
   "metadata": {},
   "outputs": [
    {
     "data": {
      "text/plain": [
       "TtestResult(statistic=-0.4071196860532607, pvalue=0.6862043707315149, df=38)"
      ]
     },
     "execution_count": 120,
     "metadata": {},
     "output_type": "execute_result"
    }
   ],
   "source": [
    "sc.stats.ttest_1samp(df10, 0)"
   ]
  },
  {
   "cell_type": "markdown",
   "metadata": {},
   "source": [
    "Higher variance help statistical tests to get conclusions about the mean. Still it is not significant."
   ]
  },
  {
   "cell_type": "markdown",
   "metadata": {},
   "source": [
    "But when we compare $10$th and $9$th derivate we will get conclusion."
   ]
  },
  {
   "cell_type": "code",
   "execution_count": 121,
   "metadata": {},
   "outputs": [
    {
     "data": {
      "text/latex": [
       "$\\displaystyle 0.000282076276610629$"
      ],
      "text/plain": [
       "0.0002820762766106293"
      ]
     },
     "execution_count": 121,
     "metadata": {},
     "output_type": "execute_result"
    }
   ],
   "source": [
    "np.linalg.norm(np.divide(df10,df9[:-1]))"
   ]
  },
  {
   "cell_type": "markdown",
   "metadata": {},
   "source": [
    "Do the polynomial regression and check residuals."
   ]
  },
  {
   "cell_type": "code",
   "execution_count": 122,
   "metadata": {},
   "outputs": [
    {
     "data": {
      "text/plain": [
       "array([3.78438246e+21])"
      ]
     },
     "execution_count": 122,
     "metadata": {},
     "output_type": "execute_result"
    }
   ],
   "source": [
    "(coef, residuals, rank, singular_values, rcond) = \\\n",
    "np.polyfit(np.array(range(g.size))+1.1, np.transpose(Polynomial_12), 8, full=True)\n",
    "residuals"
   ]
  },
  {
   "cell_type": "code",
   "execution_count": 123,
   "metadata": {},
   "outputs": [
    {
     "data": {
      "text/plain": [
       "array([0.3161752])"
      ]
     },
     "execution_count": 123,
     "metadata": {},
     "output_type": "execute_result"
    }
   ],
   "source": [
    "(coef, residuals, rank, singular_values, rcond) = \\\n",
    "np.polyfit(np.array(range(g.size))+1.1, np.transpose(Polynomial_12), 10, full=True)\n",
    "residuals"
   ]
  },
  {
   "cell_type": "code",
   "execution_count": 124,
   "metadata": {},
   "outputs": [
    {
     "data": {
      "text/plain": [
       "array([0.21979308])"
      ]
     },
     "execution_count": 124,
     "metadata": {},
     "output_type": "execute_result"
    }
   ],
   "source": [
    "(coef, residuals, rank, singular_values, rcond) = \\\n",
    "np.polyfit(np.array(range(g.size))+1.1, np.transpose(Polynomial_12), 9, full=True)\n",
    "residuals"
   ]
  },
  {
   "cell_type": "code",
   "execution_count": 125,
   "metadata": {},
   "outputs": [
    {
     "data": {
      "image/png": "[encoded data removed]",
      "text/plain": [
       "<Figure size 800x400 with 1 Axes>"
      ]
     },
     "metadata": {},
     "output_type": "display_data"
    }
   ],
   "source": [
    "plt.figure(figsize=(8, 4))\n",
    "plt.scatter(np.array(range(g.size))+1.1, np.transpose(Polynomial_12), label='f')\n",
    "plt.plot(np.array(range(g.size))+1.1, np.polyval(coef, np.array(range(g.size))+1.1),\n",
    "         label='Fitted function f')\n",
    "\n",
    "plt.legend(loc='best')\n",
    "plt.show()"
   ]
  },
  {
   "cell_type": "markdown",
   "metadata": {},
   "source": [
    "The degree is $9$. It looks that everything works."
   ]
  },
  {
   "cell_type": "markdown",
   "metadata": {},
   "source": [
    "## Q.E.D"
   ]
  },
  {
   "cell_type": "markdown",
   "metadata": {},
   "source": [
    " ### Bibliography & references:"
   ]
  },
  {
   "cell_type": "markdown",
   "metadata": {},
   "source": [
    "http://web.media.mit.edu/~crtaylor/calculator.html"
   ]
  },
  {
   "cell_type": "markdown",
   "metadata": {},
   "source": [
    "https://www.statsmodels.org"
   ]
  },
  {
   "cell_type": "markdown",
   "metadata": {},
   "source": [
    "https://docs.scipy.org"
   ]
  },
  {
   "cell_type": "markdown",
   "metadata": {},
   "source": [
    "https://stats.stackexchange.com/questions/30569/what-is-the-difference-between-a-stationary-test-and-a-unit-root-test/235916"
   ]
  },
  {
   "cell_type": "markdown",
   "metadata": {},
   "source": [
    "https://scipy-cookbook.readthedocs.io/items/FittingData.html"
   ]
  },
  {
   "cell_type": "markdown",
   "metadata": {},
   "source": [
    "http://cars9.uchicago.edu/software/python/lmfit/lmfit.pdf"
   ]
  },
  {
   "cell_type": "markdown",
   "metadata": {},
   "source": [
    "https://docs.sympy.org"
   ]
  },
  {
   "cell_type": "markdown",
   "metadata": {},
   "source": [
    "https://www.southampton.ac.uk/~fangohr/teaching/python/book/html/12-symbolic-computation.html"
   ]
  },
  {
   "cell_type": "markdown",
   "metadata": {},
   "source": [
    "https://www.coursera.org/learn/machine-learning/lecture/2DKxQ/normal-equation"
   ]
  },
  {
   "cell_type": "markdown",
   "metadata": {},
   "source": [
    "A lot of https://en.wikipedia.org/"
   ]
  },
  {
   "cell_type": "markdown",
   "metadata": {},
   "source": [
    "https://foothill.edu/psme/daley/tutorials_files/10.%20Error%20Propagation.pdf"
   ]
  },
  {
   "cell_type": "markdown",
   "metadata": {},
   "source": [
    "https://sites.fas.harvard.edu/~scphys/nsta/error_propagation.pdf"
   ]
  },
  {
   "cell_type": "markdown",
   "metadata": {},
   "source": [
    "http://ipl.physics.harvard.edu/wp-uploads/2013/03/PS3_Error_Propagation_sp13.pdf"
   ]
  },
  {
   "cell_type": "markdown",
   "metadata": {},
   "source": [
    "http://se.mathworks.com/help/econ/kpsstest.html\n",
    "\n",
    "which references:\n",
    "\n",
    "Hamilton, J. D. Time Series Analysis. Princeton, NJ: Princeton University Press, 1994.\n",
    "\n",
    "Kwiatkowski, D., P. C. B. Phillips, P. Schmidt, and Y. Shin. “Testing the Null Hypothesis of Stationarity against the Alternative of a Unit Root.” Journal of Econometrics. Vol. 54, 1992, pp. 159–178.\n",
    "\n",
    "Newey, W. K., and K. D. West. “A Simple, Positive Semidefinite, Heteroskedasticity and Autocorrelation Consistent Covariance Matrix.” Econometrica. Vol. 55, 1987, pp. 703–708. "
   ]
  },
  {
   "cell_type": "markdown",
   "metadata": {},
   "source": [
    "https://en.wikipedia.org/wiki/Isotonic_regression"
   ]
  },
  {
   "cell_type": "markdown",
   "metadata": {},
   "source": [
    "http://scikit-learn.org/stable/modules/generated/sklearn.isotonic.IsotonicRegression.html#sklearn.isotonic.IsotonicRegression"
   ]
  }
 ],
 "metadata": {
  "kernelspec": {
   "display_name": "Python 3",
   "language": "python",
   "name": "python3"
  },
  "language_info": {
   "codemirror_mode": {
    "name": "ipython",
    "version": 3
   },
   "file_extension": ".py",
   "mimetype": "text/x-python",
   "name": "python",
   "nbconvert_exporter": "python",
   "pygments_lexer": "ipython3",
   "version": "3.11.7"
  },
  "widgets": {
   "application/vnd.jupyter.widget-state+json": {
    "state": {},
    "version_major": 2,
    "version_minor": 0
   }
  }
 },
 "nbformat": 4,
 "nbformat_minor": 2
}
