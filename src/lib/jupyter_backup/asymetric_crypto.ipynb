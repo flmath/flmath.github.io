{
 "cells": [
  {
   "cell_type": "markdown",
   "metadata": {},
   "source": [
    "This notebook uses bash kernel: \n",
    "https://pypi.org/project/bash_kernel/\n",
    "\n",
    "Source notebook: \n",
    "[asymetric crypto jupyter interactive notebook](https://github.com/flmath/flmath.github.io/blob/main/src/lib/jupyter_backup/asymetric_crypto.ipynb)"
   ]
  },
  {
   "cell_type": "markdown",
   "metadata": {},
   "source": [
    "##### Problem description:\n",
    "We have a public facing server that has to log some sensitive clients information (in example GDPR, HIPAA or GLBA protected).\n",
    "\n",
    "In case of a hostile agent get access to the server we do not want it to read our clients data."
   ]
  },
  {
   "cell_type": "markdown",
   "metadata": {},
   "source": [
    "##### Solution:\n",
    "We create a public key cryptosystem. The public key is used by the server to encrypt sensitive records.\n",
    "\n",
    "The private key is stored in air-gapped server in case we need to read those data from the logs."
   ]
  },
  {
   "cell_type": "markdown",
   "metadata": {},
   "source": [
    "##### Lets start with the Rivest-Shamir-Adleman (RSA) cryptosystem."
   ]
  },
  {
   "cell_type": "code",
   "execution_count": 134,
   "metadata": {
    "vscode": {
     "languageId": "shellscript"
    }
   },
   "outputs": [
    {
     "name": "stdout",
     "output_type": "stream",
     "text": [
      "RSA key ok\n"
     ]
    }
   ],
   "source": [
    "openssl genpkey -algorithm RSA -out private_rsa_key.pem -pkeyopt rsa_keygen_bits:7680  2> /dev/null\n",
    "openssl pkey -pubout -in private_rsa_key.pem -out public_rsa_key.pem  2> /dev/null\n",
    "openssl rsa -in private_rsa_key.pem -check -noout"
   ]
  },
  {
   "cell_type": "markdown",
   "metadata": {},
   "source": [
    "Create some text. And encrypt it with public key."
   ]
  },
  {
   "cell_type": "code",
   "execution_count": 135,
   "metadata": {
    "vscode": {
     "languageId": "shellscript"
    }
   },
   "outputs": [
    {
     "name": "stdout",
     "output_type": "stream",
     "text": [
      "sensitive information\n",
      "\n",
      "RSA encrypted binary\n",
      "960\n"
     ]
    }
   ],
   "source": [
    "echo \"sensitive information\" > unencrypted.txt\n",
    "openssl pkeyutl -encrypt -pubin -inkey public_rsa_key.pem -in unencrypted.txt -out  rsa_encrypted.txt \n",
    "cat unencrypted.txt\n",
    "echo\n",
    "echo \"RSA encrypted binary\"\n",
    "cat rsa_encrypted.txt | wc -c"
   ]
  },
  {
   "cell_type": "markdown",
   "metadata": {},
   "source": [
    "Try to decrypt it with public key, to show that access to server is not enough to read information."
   ]
  },
  {
   "cell_type": "code",
   "execution_count": 136,
   "metadata": {
    "vscode": {
     "languageId": "shellscript"
    }
   },
   "outputs": [
    {
     "name": "stdout",
     "output_type": "stream",
     "text": [
      "A private key is needed for this operation\n",
      "pkeyutl: Error initializing context\n"
     ]
    },
    {
     "ename": "",
     "evalue": "1",
     "output_type": "error",
     "traceback": []
    }
   ],
   "source": [
    "openssl pkeyutl -decrypt -pubin -inkey public_rsa_key.pem -in rsa_encrypted.txt -out  rsa_decrypted_pub.txt"
   ]
  },
  {
   "cell_type": "markdown",
   "metadata": {},
   "source": [
    "Decrypt the record with private key."
   ]
  },
  {
   "cell_type": "code",
   "execution_count": null,
   "metadata": {
    "vscode": {
     "languageId": "shellscript"
    }
   },
   "outputs": [
    {
     "name": "stdout",
     "output_type": "stream",
     "text": [
      "sensitive information\n"
     ]
    }
   ],
   "source": [
    "openssl pkeyutl -decrypt -inkey private_rsa_key.pem -in rsa_encrypted.txt -out  rsa_decrypted.txt\n",
    "cat rsa_decrypted.txt"
   ]
  },
  {
   "cell_type": "markdown",
   "metadata": {},
   "source": [
    "##### SM cryptosystem"
   ]
  },
  {
   "cell_type": "markdown",
   "metadata": {},
   "source": [
    "There is a problem with RSA. Even if you can choose arbitrary big keys,\n",
    "\n",
    "the small keys are considered unsafe and for big keys the algorithms are considered slow. \n",
    "\n",
    "Lets then try elliptic curve based algorithms.\n",
    "\n",
    "From openssl pespective the easiest way is just addapt the previous commands to use the SM2 schema."
   ]
  },
  {
   "cell_type": "code",
   "execution_count": null,
   "metadata": {
    "vscode": {
     "languageId": "shellscript"
    }
   },
   "outputs": [],
   "source": [
    "openssl genpkey -algorithm SM2 -out private_sm2_key.pem \n",
    "openssl pkey -pubout -in private_sm2_key.pem -out public_sm2_key.pem \n"
   ]
  },
  {
   "cell_type": "markdown",
   "metadata": {},
   "source": [
    "Lets encrypt the message and see that it is much smaller thatn in RSA."
   ]
  },
  {
   "cell_type": "code",
   "execution_count": null,
   "metadata": {
    "vscode": {
     "languageId": "shellscript"
    }
   },
   "outputs": [
    {
     "name": "stdout",
     "output_type": "stream",
     "text": [
      "sensitive information\n",
      "\n",
      "SM2 encrypted binary\n",
      "128\n"
     ]
    }
   ],
   "source": [
    "openssl pkeyutl -encrypt -pubin -inkey public_sm2_key.pem -in unencrypted.txt -out  sm2_encrypted.txt \n",
    "cat unencrypted.txt\n",
    "echo\n",
    "echo \"SM2 encrypted binary\"\n",
    "cat sm2_encrypted.txt | wc -c"
   ]
  },
  {
   "cell_type": "markdown",
   "metadata": {},
   "source": [
    "Sanity check."
   ]
  },
  {
   "cell_type": "code",
   "execution_count": null,
   "metadata": {
    "vscode": {
     "languageId": "shellscript"
    }
   },
   "outputs": [
    {
     "name": "stdout",
     "output_type": "stream",
     "text": [
      "A private key is needed for this operation\n",
      "pkeyutl: Error initializing context\n"
     ]
    },
    {
     "ename": "",
     "evalue": "1",
     "output_type": "error",
     "traceback": []
    }
   ],
   "source": [
    "openssl pkeyutl -decrypt -pubin -inkey public_sm2_key.pem -in sm2_encrypted.txt -out  sm2_decrypted_pub.txt"
   ]
  },
  {
   "cell_type": "code",
   "execution_count": null,
   "metadata": {
    "vscode": {
     "languageId": "shellscript"
    }
   },
   "outputs": [
    {
     "name": "stdout",
     "output_type": "stream",
     "text": [
      "sensitive information\n"
     ]
    }
   ],
   "source": [
    "openssl pkeyutl -decrypt -inkey private_sm2_key.pem -in sm2_encrypted.txt -out  sm2_decrypted.txt\n",
    "cat sm2_decrypted.txt"
   ]
  },
  {
   "cell_type": "markdown",
   "metadata": {},
   "source": [
    "The openssl documentation states that:\n",
    "\n",
    "  \"The SM2 algorithm was first defined by the Chinese national standard GM/T 0003-2012 and was later standardized by ISO as ISO/IEC 14888.\" \n",
    "\n",
    "So, if you are sinophobic and do not want to use SM there, you can take another aproach for usage of the elliptic keys.\n",
    "\n",
    "Openssl 3.0 supports the EC and DSA asymetric encryption commands for signning and verification only.\n",
    "\n",
    "But we need confidentiality not only integrity. Lets then go way around this problem. "
   ]
  },
  {
   "cell_type": "markdown",
   "metadata": {},
   "source": [
    "##### EC with combination of assymetric/symetric encryption - ECIES."
   ]
  },
  {
   "cell_type": "markdown",
   "metadata": {},
   "source": [
    "Arbitrary elliptic key generation. We do not need explicit parameters, but they can be useful for debuging.\n",
    "\n",
    "Lets start with creating a private key we will keep in our airgapped server and\n",
    "\n",
    "generate a public key we will transfer to the public facing server (PFS). "
   ]
  },
  {
   "cell_type": "code",
   "execution_count": null,
   "metadata": {
    "vscode": {
     "languageId": "shellscript"
    }
   },
   "outputs": [
    {
     "name": "stdout",
     "output_type": "stream",
     "text": [
      "read EC key\n",
      "writing EC key\n"
     ]
    }
   ],
   "source": [
    "openssl ecparam -name  secp112r2  -out ec_param.pem -param_enc explicit\n",
    "openssl genpkey -paramfile ec_param.pem -out private_ag_key.pem\n",
    "openssl ec -param_enc explicit -in private_ag_key.pem -pubout -out public_ag_key.pem "
   ]
  },
  {
   "cell_type": "markdown",
   "metadata": {},
   "source": [
    "On PFS we generate a salt for future usage."
   ]
  },
  {
   "cell_type": "code",
   "execution_count": null,
   "metadata": {
    "vscode": {
     "languageId": "shellscript"
    }
   },
   "outputs": [],
   "source": [
    "openssl rand -hex 5 > saltf"
   ]
  },
  {
   "cell_type": "markdown",
   "metadata": {},
   "source": [
    "Create a new private key on PFS and derive shared secret with the AG public key."
   ]
  },
  {
   "cell_type": "code",
   "execution_count": null,
   "metadata": {
    "vscode": {
     "languageId": "shellscript"
    }
   },
   "outputs": [],
   "source": [
    "openssl ecparam -name  secp112r2  -out pfs_param.pem -param_enc explicit\n",
    "openssl genpkey -paramfile pfs_param.pem -out private_pfs_key.pem\n",
    "\n",
    "\n",
    "openssl pkeyutl -derive -inkey private_pfs_key.pem -peerkey public_ag_key.pem -out secret\n",
    "cat secret | xxd -p > hexsecret"
   ]
  },
  {
   "cell_type": "markdown",
   "metadata": {},
   "source": [
    "Use the secret and salt to derive a symmetric key."
   ]
  },
  {
   "cell_type": "code",
   "execution_count": null,
   "metadata": {
    "vscode": {
     "languageId": "shellscript"
    }
   },
   "outputs": [
    {
     "name": "stdout",
     "output_type": "stream",
     "text": [
      "sensitive information\n"
     ]
    }
   ],
   "source": [
    "cat hexsecret saltf | \\\n",
    "    xargs -n 2 bash -c \\\n",
    "        'openssl kdf -keylen 64 -kdfopt mac:KMAC-128 -kdfopt maclen:20 -kdfopt hexkey:$0 -kdfopt hexsalt:$1 SSKDF' > derived_key\n",
    "cat unencrypted.txt"
   ]
  },
  {
   "cell_type": "markdown",
   "metadata": {},
   "source": [
    "Use the derived key to encrypt sensitive information."
   ]
  },
  {
   "cell_type": "code",
   "execution_count": null,
   "metadata": {
    "vscode": {
     "languageId": "shellscript"
    }
   },
   "outputs": [
    {
     "name": "stdout",
     "output_type": "stream",
     "text": [
      "33\n"
     ]
    }
   ],
   "source": [
    "openssl enc -e -base64 -aes-256-ctr  -pbkdf2 -in unencrypted.txt -nopad -nosalt -kfile derived_key -a -out ec_encrypted.txt\n",
    "cat ec_encrypted.txt | wc -c"
   ]
  },
  {
   "cell_type": "markdown",
   "metadata": {},
   "source": [
    "Now  we want to achive two things:\n",
    "1. We provide enough information in logs that private_ag_key is enough to read encrypted message.\n",
    "2. Remove enough information from PFS that it cannot decipher encrypted message."
   ]
  },
  {
   "cell_type": "markdown",
   "metadata": {},
   "source": [
    "Lets start with the point 1. To decrypt message AG will need salt and public key generated from pfs key we used to encrypt message.\n",
    "\n",
    "Because our symetric key is derived from the public AG and the private PFS secret,\n",
    "\n",
    "we should be able decrypt it with secret derived from private AG and public PFS."
   ]
  },
  {
   "cell_type": "code",
   "execution_count": null,
   "metadata": {
    "vscode": {
     "languageId": "shellscript"
    }
   },
   "outputs": [
    {
     "name": "stdout",
     "output_type": "stream",
     "text": [
      "read EC key\n",
      "writing EC key\n",
      "Files hexsecret and hex_ag_decrypt_secret are identical\n",
      "Files derived_key and decrypt_key are identical\n"
     ]
    }
   ],
   "source": [
    "openssl ec -param_enc explicit -in private_pfs_key.pem -pubout -out public_pfs_key.pem\n",
    "openssl pkeyutl -derive -inkey private_ag_key.pem -peerkey public_pfs_key.pem -out ag_decrypt_secret\n",
    "cat ag_decrypt_secret | xxd -p > hex_ag_decrypt_secret\n",
    "\n",
    "cat hex_ag_decrypt_secret saltf | \\\n",
    "    xargs -n 2 bash -c \\\n",
    "        'openssl kdf -keylen 64 -kdfopt mac:KMAC-128 -kdfopt maclen:20 -kdfopt hexkey:$0 -kdfopt hexsalt:$1 SSKDF' > decrypt_key\n",
    "\n",
    "diff -s hexsecret hex_ag_decrypt_secret\n",
    "diff -s derived_key decrypt_key"
   ]
  },
  {
   "cell_type": "markdown",
   "metadata": {},
   "source": [
    "And lets check that we can decode our message with decrypt_key"
   ]
  },
  {
   "cell_type": "code",
   "execution_count": null,
   "metadata": {
    "vscode": {
     "languageId": "shellscript"
    }
   },
   "outputs": [
    {
     "name": "stdout",
     "output_type": "stream",
     "text": [
      "sensitive information\n"
     ]
    }
   ],
   "source": [
    "openssl enc -d -base64 -aes-256-ctr  -pbkdf2 -in ec_encrypted.txt -nopad -nosalt -kfile decrypt_key"
   ]
  },
  {
   "cell_type": "markdown",
   "metadata": {},
   "source": [
    "We no need to share with AG the PFS public key, encrypted message and salt. \n",
    "\n",
    "* The encrypted message will be for sure in log (we not going to send anything to isolated service on regular basis).\n",
    "\n",
    "* The PFS pair key can be created for every new encrypted record or if we want to be more efficient we can switch them every for example 5 minutes. \n",
    "\n",
    "    The public key should be stored in logs. The private key removed together with the generated secret and derived key.\n",
    "\n",
    "    Technically it is called [ephermal key](https://en.wikipedia.org/wiki/Ephemeral_key).\n",
    "\n",
    "* When it comes to salt it can be regenerated everytime we create a new public key or just agreed before and stored on both AG and PFS."
   ]
  },
  {
   "cell_type": "markdown",
   "metadata": {},
   "source": [
    "Lets check ensure the point 2 is acomplished. \n",
    "\n",
    "We stated before the private key, generated secret and derived key are removed. We have access to salt, both AG and PFS public keys and the encrypted message."
   ]
  },
  {
   "cell_type": "markdown",
   "metadata": {},
   "source": [
    "Lets check we cannot decode message by generating new secret using available public keys."
   ]
  },
  {
   "cell_type": "code",
   "execution_count": null,
   "metadata": {
    "vscode": {
     "languageId": "shellscript"
    }
   },
   "outputs": [],
   "source": [
    "openssl ecparam -name  secp112r2  -out ec_param_3.pem -param_enc explicit\n",
    "openssl genpkey -paramfile ec_param_3.pem -out private_pfs_key_3.pem"
   ]
  },
  {
   "cell_type": "code",
   "execution_count": null,
   "metadata": {
    "vscode": {
     "languageId": "shellscript"
    }
   },
   "outputs": [
    {
     "name": "stdout",
     "output_type": "stream",
     "text": [
      "42a82e40d69f26f559b18bfb7899a9aafbf36668e95f\n"
     ]
    }
   ],
   "source": [
    "openssl pkeyutl -derive -inkey private_pfs_key_3.pem -peerkey public_ag_key.pem -out secret_a\n",
    "cat secret_a | xxd -p > hexsecret_a\n",
    "cat hexsecret_a saltf | \\\n",
    "    xargs -n 2 bash -c \\\n",
    "        'openssl kdf -keylen 64 -kdfopt mac:KMAC-128 -kdfopt maclen:20 -kdfopt hexkey:$0 -kdfopt hexsalt:$1 SSKDF' > derived_key_a\n",
    "openssl enc -d -base64 -aes-256-ctr  -pbkdf2 -in ec_encrypted.txt -nopad -nosalt -kfile derived_key_a | xxd -p"
   ]
  },
  {
   "cell_type": "code",
   "execution_count": null,
   "metadata": {
    "vscode": {
     "languageId": "shellscript"
    }
   },
   "outputs": [
    {
     "name": "stdout",
     "output_type": "stream",
     "text": [
      "db77463ed4483efc47a5de9eeeb00ea60cf3fb4110c4\n"
     ]
    }
   ],
   "source": [
    "openssl pkeyutl -derive -inkey private_pfs_key_3.pem -peerkey public_pfs_key.pem -out secret_b\n",
    "cat secret_b | xxd -p > hexsecret_b\n",
    "cat hexsecret_b saltf | \\\n",
    "    xargs -n 2 bash -c \\\n",
    "        'openssl kdf -keylen 64 -kdfopt mac:KMAC-128 -kdfopt maclen:20 -kdfopt hexkey:$0 -kdfopt hexsalt:$1 SSKDF' > derived_key_b\n",
    "openssl enc -d -base64 -aes-256-ctr  -pbkdf2 -in ec_encrypted.txt -nopad -nosalt -kfile derived_key_b | xxd -p"
   ]
  },
  {
   "cell_type": "markdown",
   "metadata": {},
   "source": [
    "Of course we can use bigger salts and more secure protocols than secp112r2. But the ECIES method used like that should be futureproof with openssl."
   ]
  },
  {
   "cell_type": "markdown",
   "metadata": {},
   "source": [
    "##### Cheaper approach to ECIES\n",
    "Like before but we reasig from usage of expensive pbkdf2 function. \n",
    "\n",
    "To make algorithm a little more secure will use a randomized initialization vector per message, and change server keys time to time. \n",
    "\n",
    "In this case we do not force PFS to generate new keys every message, and we store in logs IV and PFS Public key time to time."
   ]
  },
  {
   "cell_type": "markdown",
   "metadata": {},
   "source": [
    "Lets make AG certificates."
   ]
  },
  {
   "cell_type": "code",
   "execution_count": null,
   "metadata": {
    "vscode": {
     "languageId": "shellscript"
    }
   },
   "outputs": [],
   "source": [
    "openssl genpkey -algorithm EC -pkeyopt ec_paramgen_curve:brainpoolP256r1 -out  private_ag_key.pem\n",
    "openssl pkey -pubout -in private_ag_key.pem -out public_ag_key.pem"
   ]
  },
  {
   "cell_type": "markdown",
   "metadata": {},
   "source": [
    "Generate Initialization Vector"
   ]
  },
  {
   "cell_type": "code",
   "execution_count": null,
   "metadata": {
    "vscode": {
     "languageId": "shellscript"
    }
   },
   "outputs": [
    {
     "name": "stdout",
     "output_type": "stream",
     "text": [
      "5de245ad1a4c3ffae7a002fc7af3f893\n",
      "sensitive information\n"
     ]
    }
   ],
   "source": [
    "openssl rand -hex 16 > iv\n",
    "cat iv\n",
    "cat unencrypted.txt"
   ]
  },
  {
   "cell_type": "markdown",
   "metadata": {},
   "source": [
    "Create shared secret for encryption."
   ]
  },
  {
   "cell_type": "code",
   "execution_count": null,
   "metadata": {
    "vscode": {
     "languageId": "shellscript"
    }
   },
   "outputs": [],
   "source": [
    "openssl genpkey -algorithm EC -pkeyopt ec_paramgen_curve:brainpoolP256r1 -out  private_pfs_key.pem\n",
    "openssl pkeyutl -derive -inkey private_pfs_key.pem -peerkey public_ag_key.pem -out shared"
   ]
  },
  {
   "cell_type": "markdown",
   "metadata": {},
   "source": [
    "Encrypt with initialization vector and shared secret."
   ]
  },
  {
   "cell_type": "code",
   "execution_count": null,
   "metadata": {
    "vscode": {
     "languageId": "shellscript"
    }
   },
   "outputs": [
    {
     "name": "stdout",
     "output_type": "stream",
     "text": [
      "*** WARNING : deprecated key derivation used.\n",
      "Using -iter or -pbkdf2 would be better.\n",
      "T0mmGtH/a+dihRWdeDjyDQEtLyMHVQ==\n"
     ]
    }
   ],
   "source": [
    "cat iv | xargs -I {} openssl enc -e -base64 -aes-256-ctr -in unencrypted.txt -nosalt -kfile shared -iv {} -A \\\n",
    "-out eciv_encrypted.txt\n",
    "cat eciv_encrypted.txt"
   ]
  },
  {
   "cell_type": "markdown",
   "metadata": {},
   "source": [
    "Create public key for PFS. Remove shared secret and private_pfs_key. Now it is impossible to decrypt the message without private AG key."
   ]
  },
  {
   "cell_type": "code",
   "execution_count": null,
   "metadata": {
    "vscode": {
     "languageId": "shellscript"
    }
   },
   "outputs": [],
   "source": [
    "openssl pkey -pubout -in private_pfs_key.pem -out public_pfs_key.pem\n",
    "rm -rf private_pfs_key.pem shared"
   ]
  },
  {
   "cell_type": "markdown",
   "metadata": {},
   "source": [
    "Use private AG key, initial vector and public PFS key to recreate shared secret."
   ]
  },
  {
   "cell_type": "code",
   "execution_count": null,
   "metadata": {
    "vscode": {
     "languageId": "shellscript"
    }
   },
   "outputs": [],
   "source": [
    "openssl pkeyutl -derive -inkey private_ag_key.pem -peerkey public_pfs_key.pem -out shared_dec"
   ]
  },
  {
   "cell_type": "markdown",
   "metadata": {},
   "source": [
    "Validate that we can decrypt with recreated shared secret."
   ]
  },
  {
   "cell_type": "code",
   "execution_count": null,
   "metadata": {
    "vscode": {
     "languageId": "shellscript"
    }
   },
   "outputs": [
    {
     "name": "stdout",
     "output_type": "stream",
     "text": [
      "*** WARNING : deprecated key derivation used.\n",
      "Using -iter or -pbkdf2 would be better.\n",
      "sensitive information\n"
     ]
    }
   ],
   "source": [
    "cat iv | xargs -I {} openssl enc -d -base64 \\\n",
    "-aes-256-ctr -in eciv_encrypted.txt -nosalt -kfile shared_dec -iv {} -A \\\n",
    "-out eciv_decrypted.txt\n",
    "cat eciv_decrypted.txt"
   ]
  },
  {
   "cell_type": "markdown",
   "metadata": {},
   "source": [
    "The message can be decrypted only with access to certificate that is on airgapped server quod erat demonstrandum."
   ]
  },
  {
   "cell_type": "markdown",
   "metadata": {},
   "source": [
    "References:\n",
    "- https://en.wikipedia.org/wiki/Public-key_cryptography\n",
    "- https://en.wikipedia.org/wiki/Ephemeral_key\n",
    "- https://en.wikipedia.org/wiki/Integrated_Encryption_Scheme\n",
    "- https://asecuritysite.com/kdf/index\n",
    "- https://cryptobook.nakov.com/asymmetric-key-ciphers/ecies-public-key-encryption\n",
    "- https://www.johannes-bauer.com/compsci/ecc/#anchor32\n",
    "- http://www.secg.org/sec1-v2.pdf\n",
    "- https://docs.openssl.org/master/man1/openssl-pkeyutl/#rsa-pss-algorithm\n",
    "- https://docs.openssl.org/master/man7/EVP_PKEY-SM2/\n",
    "- https://docs.openssl.org/3.1/man1/openssl-kdf/\n",
    "- https://web.williams.edu/Mathematics/sjmiller/public_html/crypto/handouts/BlackburnCidMullan_GroupThInCrypto.pdf\n",
    "- https://therenegadecoder.com/code/understanding-the-number-theory-behind-rsa-encryption/\n",
    "- https://math.mit.edu/~mckernan/Teaching/12-13/Spring/18.703/book.pdf\n",
    "- https://linuxconfig.org/cat-command\n",
    "- https://math.stackexchange.com/questions/3572405/whats-the-reason-behind-the-mathematics-of-rsa"
   ]
  }
 ],
 "metadata": {
  "kernelspec": {
   "display_name": "Bash",
   "language": "bash",
   "name": "bash"
  },
  "language_info": {
   "codemirror_mode": "shell",
   "file_extension": ".sh",
   "mimetype": "text/x-sh",
   "name": "bash"
  }
 },
 "nbformat": 4,
 "nbformat_minor": 2
}
