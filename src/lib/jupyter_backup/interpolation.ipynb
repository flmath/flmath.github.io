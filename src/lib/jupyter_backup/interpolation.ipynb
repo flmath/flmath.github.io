{
 "cells": [
  {
   "cell_type": "markdown",
   "metadata": {},
   "source": [
    "<p><abbr title=\"Non enim numero hæc judicantur, sed pondere\">\"For these are judged not by numbers, but by weight.\"</abbr> <a href=\"https://books.google.se/books?id=7BvgAAAAMAAJ&pg=PA190&lpg=PA190&dq=%22not+by+numbers%22+cicero&source=bl&ots=Ps7ieQr9h5&sig=ACfU3U0KFnC_3x_GcDlRBkIN4-1MMsqZVQ&hl=en&sa=X&ved=2ahUKEwie7riQs8vkAhVskIsKHYROCwgQ6AEwCHoECAQQAQ#v=onepage&q=not%20by%20numbers&f=false\">- Marcus Tullius Cicero, De Officiis</a></p>"
   ]
  },
  {
   "cell_type": "markdown",
   "metadata": {},
   "source": [
    "# Every answer is right if the question is wrong."
   ]
  },
  {
   "cell_type": "markdown",
   "metadata": {},
   "source": [
    "## Introduction to the problem"
   ]
  },
  {
   "cell_type": "markdown",
   "metadata": {},
   "source": [
    "Not so long ago my social media met a ripple of an old puzzle, that generated a lot of traffic and opinions."
   ]
  },
  {
   "cell_type": "code",
   "execution_count": 2,
   "metadata": {},
   "outputs": [
    {
     "data": {
      "image/png": "[encoded data removed]",
      "text/plain": [
       "<IPython.core.display.Image object>"
      ]
     },
     "metadata": {},
     "output_type": "display_data"
    }
   ],
   "source": [
    "from IPython import display\n",
    "display.display(display.Image(filename=\"1-4-5-puzzle-social.png\"))"
   ]
  },
  {
   "cell_type": "markdown",
   "metadata": {},
   "source": [
    "[Facebook](https://www.facebook.com/randall.joneslatinjuggalo/posts/1048238075247858)\n",
    "\n",
    "[Mind your decisions](https://mindyourdecisions.com/blog/2016/08/24/the-viral-1-4-5-puzzle-the-correct-answer-explained/)\n",
    "\n",
    "[Reddit](https://www.reddit.com/r/puzzles/comments/4gbxst/how_to_come_up_with_the_most_correct_answer_on_a/)"
   ]
  },
  {
   "cell_type": "markdown",
   "metadata": {},
   "source": [
    "Let's show that we can replace the question mark with any number and then prove that it is the right solution. We should start by representing our problem in some more convenient way. For example:"
   ]
  },
  {
   "cell_type": "markdown",
   "metadata": {},
   "source": [
    "$$\n",
    "\\begin{align}\n",
    "1&+f(4) &=&\\ 5\\\\\n",
    "2&+f(5) &=&\\ 12\\\\\n",
    "3&+f(6) &=&\\ 21\\\\\n",
    "8&+f(11) &=&\\ ?\n",
    "\\end{align}\n",
    "$$"
   ]
  },
  {
   "cell_type": "markdown",
   "metadata": {},
   "source": [
    "## Preparing workplace"
   ]
  },
  {
   "cell_type": "markdown",
   "metadata": {},
   "source": [
    "The task we want to complete is to find $f$ that will fit all the values. We will use an XVIII century [method](https://en.wikipedia.org/wiki/Lagrange_polynomial) created by Edward Waring. The method is called Lagranges Interpolation. It should give you a clue, that if you want to make yourself a name, find different field than mathematics (there are no even Nobel prizes in it)."
   ]
  },
  {
   "cell_type": "markdown",
   "metadata": {},
   "source": [
    "Before we start let's relax a little our equation by adding another variable and let's get rid of this ugly question mark."
   ]
  },
  {
   "cell_type": "markdown",
   "metadata": {},
   "source": [
    "$$\n",
    "\\begin{align}\n",
    "y&+f(4) &=&\\ 5\\\\\n",
    "2\\cdot y&+f(5) &=&\\ 12\\\\\n",
    "3\\cdot y&+f(6) &=&\\ 21\\\\\n",
    "8\\cdot y&+f(11) &=&\\ s\n",
    "\\end{align}\n",
    "$$"
   ]
  },
  {
   "cell_type": "markdown",
   "metadata": {},
   "source": [
    "We add the $y$, because later we may want to be able to manipulate results. We can substitute the $y$ with $1$ later if we won't like it."
   ]
  },
  {
   "cell_type": "markdown",
   "metadata": {},
   "source": [
    "$$\n",
    "\\begin{align}\n",
    "&f(4) &=&\\ 5-y\\\\\n",
    "&f(5) &=&\\ 12-2\\cdot y\\\\\n",
    "&f(6) &=&\\ 21-3\\cdot y\\\\\n",
    "&f(11) &=&\\ s-8\\cdot y\n",
    "\\end{align}\n",
    "$$"
   ]
  },
  {
   "cell_type": "markdown",
   "metadata": {},
   "source": [
    "We are looking for a third-degree polynomial, to better understand why the Lagrange interpolation works, let's write it down."
   ]
  },
  {
   "cell_type": "markdown",
   "metadata": {},
   "source": [
    "$$\n",
    "\\begin{align}\n",
    "&f(x) &=&\\ a_1\\cdot(x-4)\\cdot(x-5)\\cdot(x-11)\\ +\\\\\n",
    "&& &\\ a_2\\cdot(x-4)\\cdot(x-6)\\cdot(x-11)\\ +\\\\\n",
    "&& &\\ a_3\\cdot(x-5)\\cdot(x-6)\\cdot(x-11)\\ +\\\\\n",
    "&& &\\ a_4\\cdot(x-4)\\cdot(x-5)\\cdot(x-6)\\\\\n",
    "\\end{align}\n",
    "$$"
   ]
  },
  {
   "cell_type": "markdown",
   "metadata": {},
   "source": [
    "You can see that if you take any number from $\\{4,5,6,11\\}$, you will get only one parameter $a_i$ in the result as the others are multiplied by $0$, i.e."
   ]
  },
  {
   "cell_type": "markdown",
   "metadata": {},
   "source": [
    "$$f(5)= 0 + a_2 \\cdot 6 + 0 + 0= 6\\cdot a_2$$"
   ]
  },
  {
   "cell_type": "markdown",
   "metadata": {},
   "source": [
    "All calculations showed here can be solved with a <abbr title=\"Computer Algebra System\">CAS</abbr>. I have used [SymPy](https://www.sympy.org/en/index.html) since it is built-in into [Anaconda](https://www.anaconda.com/) which  I am using to write this Jupyter notebook. This will help us eliminate simple miscalculations, and learn the basics of SymPy."
   ]
  },
  {
   "cell_type": "code",
   "execution_count": 3,
   "metadata": {},
   "outputs": [],
   "source": [
    "import numpy as np\n",
    "from sympy import *"
   ]
  },
  {
   "cell_type": "code",
   "execution_count": 4,
   "metadata": {},
   "outputs": [],
   "source": [
    "x, y, s, a_1, a_2, a_3, a_4  = symbols('x, y, s, a_1, a_2, a_3, a_4')"
   ]
  },
  {
   "cell_type": "code",
   "execution_count": 5,
   "metadata": {},
   "outputs": [
    {
     "data": {
      "text/latex": [
       "$\\displaystyle a_{1} \\left(x - 11\\right) \\left(x - 5\\right) \\left(x - 4\\right) + a_{2} \\left(x - 11\\right) \\left(x - 6\\right) \\left(x - 4\\right) + a_{3} \\left(x - 11\\right) \\left(x - 6\\right) \\left(x - 5\\right) + a_{4} \\left(x - 6\\right) \\left(x - 5\\right) \\left(x - 4\\right)$"
      ],
      "text/plain": [
       "a_1*(x - 11)*(x - 5)*(x - 4) + a_2*(x - 11)*(x - 6)*(x - 4) + a_3*(x - 11)*(x - 6)*(x - 5) + a_4*(x - 6)*(x - 5)*(x - 4)"
      ]
     },
     "execution_count": 5,
     "metadata": {},
     "output_type": "execute_result"
    }
   ],
   "source": [
    "PolyS = \"a_1*(x-4)*(x-5)*(x-11)+a_2*(x-4)*(x-6)*(x-11)+a_3*(x-5)*(x-6)*(x-11)+a_4*(x-4)*(x-5)*(x-6)\"\n",
    "Poly = sympify(PolyS)\n",
    "f_4 = sympify(\"5-y\")\n",
    "f_5 = sympify(\"12-2*y\")\n",
    "f_6 = sympify(\"21-3*y\")\n",
    "f_11 = sympify(\"s-8*y\")\n",
    "Poly"
   ]
  },
  {
   "cell_type": "markdown",
   "metadata": {},
   "source": [
    "## Calculating interpolation coefficients and eliminating fractions"
   ]
  },
  {
   "cell_type": "markdown",
   "metadata": {},
   "source": [
    "So we get as follows:"
   ]
  },
  {
   "cell_type": "markdown",
   "metadata": {},
   "source": [
    "$$\n",
    "\\begin{align}\n",
    "&5-y\\ &=f(4) &=&\\ -14\\cdot a_3\\\\\n",
    "&12-2\\cdot y\\ &=f(5) &=&\\ 6\\cdot a_2\\\\\n",
    "&21-3\\cdot y\\ &=f(6) &=&\\ -10\\cdot a_1\\\\\n",
    "&s-8\\cdot y\\ &=f(11) &=&\\ 210\\cdot a_4\n",
    "\\end{align}\n",
    "$$"
   ]
  },
  {
   "cell_type": "code",
   "execution_count": 6,
   "metadata": {},
   "outputs": [
    {
     "data": {
      "text/plain": [
       "(-14*a_3, 6*a_2, -10*a_1, 210*a_4)"
      ]
     },
     "execution_count": 6,
     "metadata": {},
     "output_type": "execute_result"
    }
   ],
   "source": [
    "Poly.subs([(x, 4)]), Poly.subs([(x, 5)]), Poly.subs([(x, 6)]), Poly.subs([(x, 11)])"
   ]
  },
  {
   "cell_type": "markdown",
   "metadata": {},
   "source": [
    "Finding values of $a_i$, requires just division:"
   ]
  },
  {
   "cell_type": "markdown",
   "metadata": {},
   "source": [
    "$$\n",
    "\\begin{align}\n",
    "&a_1 &=&\\ \\frac{3\\cdot y-21}{10}&=&\\ \\frac{63\\cdot y-441}{210}\\\\\n",
    "&a_2 &=&\\ \\frac{6-y}{3}&=&\\ \\frac{420- 70\\cdot y}{210}\\\\\n",
    "&a_3 &=&\\ \\frac{y-5}{14}&=&\\ \\frac{15\\cdot y-75}{210}\\\\\n",
    "&a_4 &=&\\ \\frac{s-8\\cdot y}{210}&=&\\ \\frac{s-8\\cdot y}{210}\n",
    "\\end{align}\n",
    "$$"
   ]
  },
  {
   "cell_type": "code",
   "execution_count": 7,
   "metadata": {},
   "outputs": [
    {
     "data": {
      "text/plain": [
       "[(a_3, (y - 5)/14),\n",
       " (a_2, (6 - y)/3),\n",
       " (a_1, 3*(y - 7)/10),\n",
       " (a_4, (s - 8*y)/210)]"
      ]
     },
     "execution_count": 7,
     "metadata": {},
     "output_type": "execute_result"
    }
   ],
   "source": [
    "SLin = [f_4-Poly.subs([(x, 4)]), f_5-Poly.subs([(x, 5)]), f_6-Poly.subs([(x, 6)]), f_11-Poly.subs([(x, 11)])]\n",
    "Solutions = [solve_linear(SL) for SL in SLin]\n",
    "TogetherSolutions = [(Solution[0], together(Solution[1])) for Solution in Solutions ]\n",
    "TogetherSolutions"
   ]
  },
  {
   "cell_type": "code",
   "execution_count": 8,
   "metadata": {},
   "outputs": [
    {
     "data": {
      "text/plain": [
       "[(y - 5, 14), (6 - y, 3), (3*y - 21, 10), (s - 8*y, 210)]"
      ]
     },
     "execution_count": 8,
     "metadata": {},
     "output_type": "execute_result"
    }
   ],
   "source": [
    "Fractions = [fraction(TS[1]) for TS in TogetherSolutions]\n",
    "Fractions"
   ]
  },
  {
   "cell_type": "code",
   "execution_count": 9,
   "metadata": {},
   "outputs": [
    {
     "data": {
      "text/latex": [
       "$\\displaystyle 210$"
      ],
      "text/plain": [
       "210"
      ]
     },
     "execution_count": 9,
     "metadata": {},
     "output_type": "execute_result"
    }
   ],
   "source": [
    "LCM = lcm([Fraction[1] for Fraction in Fractions])\n",
    "LCM"
   ]
  },
  {
   "cell_type": "code",
   "execution_count": 10,
   "metadata": {},
   "outputs": [
    {
     "data": {
      "text/plain": [
       "[15*y - 75, 420 - 70*y, 63*y - 441, s - 8*y]"
      ]
     },
     "execution_count": 10,
     "metadata": {},
     "output_type": "execute_result"
    }
   ],
   "source": [
    "Numerators = [Fraction[0]*(LCM/Fraction[1]) for Fraction in Fractions]\n",
    "Numerators"
   ]
  },
  {
   "cell_type": "markdown",
   "metadata": {},
   "source": [
    "I presented solutions with a common denominator, so we can now multiply everything, eliminating fractions:"
   ]
  },
  {
   "cell_type": "markdown",
   "metadata": {},
   "source": [
    "$$\n",
    "\\begin{align}\n",
    "&210\\cdot a_1\\ &=&\\ 63\\cdot y-441\\\\\n",
    "&210\\cdot a_2 &=&\\ 420- 70\\cdot y\\\\\n",
    "&210\\cdot a_3 &=&\\ 15\\cdot y-75\\\\\n",
    "&210\\cdot a_4 &=&\\ s-8\\cdot y\n",
    "\\end{align}\n",
    "$$"
   ]
  },
  {
   "cell_type": "markdown",
   "metadata": {},
   "source": [
    "## Calculating \"validations\" generating polynomial"
   ]
  },
  {
   "cell_type": "markdown",
   "metadata": {},
   "source": [
    "We can represent $f(x)$ as follows $f(x)=a_1\\cdot L_1+a_2\\cdot L_2+a_3\\cdot L_3+a_4\\cdot L_4$"
   ]
  },
  {
   "cell_type": "markdown",
   "metadata": {},
   "source": [
    "$$\n",
    "\\begin{align}\n",
    "&L_1 &=&\\ (x-4)\\cdot(x-5)\\cdot(x-11) &=&\\ x^3 - 20\\cdot x^2 + 119\\cdot x - 220\\\\\n",
    "&L_2 &=&\\ (x-4)\\cdot(x-6)\\cdot(x-11) &=&\\ x^3 - 21\\cdot x^2 + 134\\cdot x - 264\\\\\n",
    "&L_3 &=&\\ (x-5)\\cdot(x-6)\\cdot(x-11) &=&\\ x^3 - 22\\cdot x^2 + 151\\cdot x - 330\\\\\n",
    "&L_4 &=&\\ (x-4)\\cdot(x-5)\\cdot(x-6) &=&\\ x^3 - 15\\cdot x^2 + 74\\cdot x - 120\\\\\n",
    "\\end{align}\n",
    "$$"
   ]
  },
  {
   "cell_type": "markdown",
   "metadata": {},
   "source": [
    "Now we have: \n",
    "$$\n",
    "\\begin{align}\n",
    "&210 \\cdot f(x) &=&\\ 210\\cdot a_1\\cdot L_1+ 210\\cdot a_2\\cdot L_2+210\\cdot a_3\\cdot L_3+210\\cdot a_4\\cdot L_4\n",
    "\\end{align}\n",
    "$$"
   ]
  },
  {
   "cell_type": "markdown",
   "metadata": {},
   "source": [
    "Which expands into:\n",
    "$$ \n",
    "\\begin{align}\n",
    "&210 \\cdot f(x) &=&\\  (63\\cdot y-441)\\cdot (x^3 - 20\\cdot x^2 + 119\\cdot x - 220)\\ +\\\\\n",
    "&& &\\ (420- 70\\cdot y)\\cdot (x^3 - 21\\cdot x^2 + 134\\cdot x - 264)\\ +\\\\\n",
    "&& &\\ (15\\cdot y-75)\\cdot (x^3 - 22\\cdot x^2 + 151\\cdot x - 33)\\ +\\\\\n",
    "&& &\\ (s-8\\cdot y)\\cdot (x^3 - 15\\cdot x^2 + 74\\cdot x - 120)\n",
    "\\end{align}\n",
    "$$"
   ]
  },
  {
   "cell_type": "markdown",
   "metadata": {},
   "source": [
    "A little bit of algebra:"
   ]
  },
  {
   "cell_type": "markdown",
   "metadata": {},
   "source": [
    "$$ \n",
    "210 \\cdot f(x) = y\\cdot[-210\\cdot x+630] + [(s-96)\\cdot x^3 - (1650 - 15 \\cdot s)\\cdot x^2 + (-7524 + 74\\cdot s)\\cdot x + (10890 - 120\\cdot s)]\n",
    "$$ "
   ]
  },
  {
   "cell_type": "code",
   "execution_count": 11,
   "metadata": {},
   "outputs": [
    {
     "data": {
      "text/latex": [
       "$\\displaystyle s x^{3} - 15 s x^{2} + 74 s x - 120 s - 96 x^{3} + 1650 x^{2} - 7524 x + y \\left(630 - 210 x\\right) + 10890$"
      ],
      "text/plain": [
       "s*x**3 - 15*s*x**2 + 74*s*x - 120*s - 96*x**3 + 1650*x**2 - 7524*x + y*(630 - 210*x) + 10890"
      ]
     },
     "execution_count": 11,
     "metadata": {},
     "output_type": "execute_result"
    }
   ],
   "source": [
    "L = simplify(Poly.subs(zip([Solution[0] for Solution in Solutions], Numerators)))\n",
    "collect(L, y)"
   ]
  },
  {
   "cell_type": "markdown",
   "metadata": {},
   "source": [
    "## Choosing a solution"
   ]
  },
  {
   "cell_type": "markdown",
   "metadata": {},
   "source": [
    "Now we have an equation that we can use to solve the problem for any $s$. Lets $s=4$:"
   ]
  },
  {
   "cell_type": "markdown",
   "metadata": {},
   "source": [
    "$$ \n",
    "210 \\cdot f(x) = y\\cdot[-210\\cdot x+630] + [-92\\cdot x^3 - 1590\\cdot x^2 -7228\\cdot x + 10410]\n",
    "$$ "
   ]
  },
  {
   "cell_type": "markdown",
   "metadata": {},
   "source": [
    "Let's choose some arbitrary $y$: $$y=2$$\n",
    "We get:"
   ]
  },
  {
   "cell_type": "markdown",
   "metadata": {},
   "source": [
    "$$ \n",
    "210 \\cdot f(x) = -92\\cdot x^3 - 1590\\cdot x^2 -7648\\cdot x + 11670\n",
    "$$"
   ]
  },
  {
   "cell_type": "code",
   "execution_count": 12,
   "metadata": {},
   "outputs": [
    {
     "data": {
      "text/latex": [
       "$\\displaystyle - 92 x^{3} + 1590 x^{2} - 7648 x + 11670$"
      ],
      "text/plain": [
       "-92*x**3 + 1590*x**2 - 7648*x + 11670"
      ]
     },
     "execution_count": 12,
     "metadata": {},
     "output_type": "execute_result"
    }
   ],
   "source": [
    "Ans = L.subs([(s,4),(y,2)])\n",
    "Ans"
   ]
  },
  {
   "cell_type": "markdown",
   "metadata": {},
   "source": [
    "## Legitimizing the solution"
   ]
  },
  {
   "cell_type": "markdown",
   "metadata": {},
   "source": [
    "Lets present our equation as:"
   ]
  },
  {
   "cell_type": "markdown",
   "metadata": {},
   "source": [
    "$$\n",
    "\\begin{align}\n",
    "1&\\oplus 4 &\\eqcirc&\\ &5\\\\\n",
    "2&\\oplus 5 &\\eqcirc&\\ &12\\\\\n",
    "3&\\oplus 6 &\\eqcirc&\\ &21\\\\\n",
    "8&\\oplus 11 &\\eqcirc&\\ &?\n",
    "\\end{align}\n",
    "$$"
   ]
  },
  {
   "cell_type": "markdown",
   "metadata": {},
   "source": [
    "Now we can claim the answer is $4$. And if someone asks us why we can say"
   ]
  },
  {
   "cell_type": "markdown",
   "metadata": {},
   "source": [
    "that $a\\oplus b$ means:"
   ]
  },
  {
   "cell_type": "markdown",
   "metadata": {},
   "source": [
    "$$ \n",
    "2\\cdot 210\\cdot a -92\\cdot b^3 - 1590\\cdot b^2 -7648\\cdot b + 11670 \n",
    "$$"
   ]
  },
  {
   "cell_type": "markdown",
   "metadata": {},
   "source": [
    "And that $c\\eqcirc d$ means:"
   ]
  },
  {
   "cell_type": "markdown",
   "metadata": {},
   "source": [
    "$$c=210\\cdot d$$"
   ]
  },
  {
   "cell_type": "markdown",
   "metadata": {},
   "source": [
    "In other words:"
   ]
  },
  {
   "cell_type": "markdown",
   "metadata": {},
   "source": [
    "If we take $410\\ (y=2$ times the denominator $=210)$ times $a$, remove $92$ times cubed $b$, remove $1590$ times squared $b$, remove another $7648$ $b$'s and add $11670$, we will get $210$ times $d$.\n",
    "\n",
    "Lets check that:"
   ]
  },
  {
   "cell_type": "markdown",
   "metadata": {},
   "source": [
    "$$\n",
    "\\begin{align}\n",
    "1&\\oplus 4 &=&\\ 420 + 630 &=&\\ 1050&=&\\ 5\\cdot 210&\\eqcirc&\\ &5\\\\\n",
    "2&\\oplus 5 &=&\\ 840 + 1680 &=&\\ 2510&=&\\ 12\\cdot 210&\\eqcirc&\\ &12\\\\\n",
    "3&\\oplus 6 &=&\\ 1260 + 3150 &=&\\ 4410&=&\\ 21\\cdot 210&\\eqcirc&\\ &21\\\\\n",
    "8&\\oplus 11 &=&\\ 3360 - 2520 &=&\\ 840&=&\\ 4\\cdot 210&\\eqcirc&\\ &4\n",
    "\\end{align}\n",
    "$$"
   ]
  },
  {
   "cell_type": "code",
   "execution_count": 13,
   "metadata": {},
   "outputs": [
    {
     "data": {
      "text/plain": [
       "array([5, 12, 21, 4], dtype=object)"
      ]
     },
     "execution_count": 13,
     "metadata": {},
     "output_type": "execute_result"
    }
   ],
   "source": [
    "np.divide([Ans.subs([(x, 4)])+2*210*1, Ans.subs([(x, 5)])+2*2*210, Ans.subs([(x, 6)])+2*3*210, Ans.subs([(x, 11)])+2*8*210],210)"
   ]
  },
  {
   "cell_type": "markdown",
   "metadata": {},
   "source": [
    "#### So yes we are right!"
   ]
  },
  {
   "cell_type": "markdown",
   "metadata": {},
   "source": [
    "## Conclusions\n",
    "\n",
    "There are a few observations worth mentioning here:\n",
    "\n",
    " - The first observation: Not only we can choose any answer and find justification for why the answer is right. Since we can choose any $y$, so we can find an infinite number of justifications.\n",
    " \n",
    " - The second observation: We use here polynomials which according to [Stone–Weierstrass theorem](https://en.wikipedia.org/wiki/Stone%E2%80%93Weierstrass_theorem) can approximate any continuous function. Of course, there are many more ways to represent a function, including logistic functions, neural networks and whatever is fashionable today. The problem we are facing here is called overfitting and is solved by restricting and penalizing the size of the coefficients.\n",
    " \n",
    "At this moment you probably got an idea: I can tell when values are too big, coefficients as big as $7648$ sound unnatural. \n",
    "Unfortunately introducing our cognitive biases to calculations usually does more harm than good. Let's ask \"How many movie genders there are?\". Does the number $76897$ sound right? Netflix [algorithms found that](https://www.theatlantic.com/technology/archive/2014/01/how-netflix-reverse-engineered-hollywood/282679/) number is a proper answer.\n",
    "\n",
    "Unless you have a strong argument to use some choosing method. For example, you can argue that minimalizing the [Kolmogorov complexity](https://en.wikipedia.org/wiki/Kolmogorov_complexity) is the right way, as this [Reddit comment states](https://www.reddit.com/r/puzzles/comments/4gbxst/how_to_come_up_with_the_most_correct_answer_on_a/d2gal72/).\n"
   ]
  },
  {
   "cell_type": "markdown",
   "metadata": {},
   "source": [
    "## Bonus"
   ]
  },
  {
   "cell_type": "markdown",
   "metadata": {},
   "source": [
    "Computing by hand is quite tedious and boring. Fortunately, we can use SymPy interpolation to solve everything in a few lines."
   ]
  },
  {
   "cell_type": "markdown",
   "metadata": {},
   "source": [
    "### Input values:"
   ]
  },
  {
   "cell_type": "code",
   "execution_count": 14,
   "metadata": {},
   "outputs": [],
   "source": [
    "x, y, s  = symbols('x, y, s')\n",
    "y_coeffs = [1,2,3,8]\n",
    "f_const = [5,12,21,s]\n",
    "x_points = [4, 5, 6, 11]"
   ]
  },
  {
   "cell_type": "markdown",
   "metadata": {},
   "source": [
    "### Prepare data:"
   ]
  },
  {
   "cell_type": "code",
   "execution_count": 15,
   "metadata": {},
   "outputs": [
    {
     "data": {
      "text/plain": [
       "[(4, 5 - y), (5, 12 - 2*y), (6, 21 - 3*y), (11, s - 8*y)]"
      ]
     },
     "execution_count": 15,
     "metadata": {},
     "output_type": "execute_result"
    }
   ],
   "source": [
    "rhs_descs = list(zip(f_const, y_coeffs))\n",
    "y_points = [rhs_desc[0]-rhs_desc[1]*y for rhs_desc in rhs_descs]\n",
    "points = list(zip(x_points, y_points))\n",
    "points"
   ]
  },
  {
   "cell_type": "markdown",
   "metadata": {},
   "source": [
    "### Generate the polynominal:"
   ]
  },
  {
   "cell_type": "code",
   "execution_count": 16,
   "metadata": {},
   "outputs": [
    {
     "data": {
      "text/latex": [
       "$\\displaystyle s x^{3} - 15 s x^{2} + 74 s x - 120 s - 96 x^{3} + 1650 x^{2} - 210 x y - 7524 x + 630 y + 10890$"
      ],
      "text/plain": [
       "s*x**3 - 15*s*x**2 + 74*s*x - 120*s - 96*x**3 + 1650*x**2 - 210*x*y - 7524*x + 630*y + 10890"
      ]
     },
     "execution_count": 16,
     "metadata": {},
     "output_type": "execute_result"
    }
   ],
   "source": [
    "Interpolated = fraction(together(interpolate(points, x)))\n",
    "(Polynomial, LCM) = Interpolated\n",
    "Polynomial"
   ]
  },
  {
   "cell_type": "code",
   "execution_count": 17,
   "metadata": {},
   "outputs": [
    {
     "data": {
      "text/latex": [
       "$\\displaystyle 210$"
      ],
      "text/plain": [
       "210"
      ]
     },
     "execution_count": 17,
     "metadata": {},
     "output_type": "execute_result"
    }
   ],
   "source": [
    "LCM"
   ]
  },
  {
   "cell_type": "markdown",
   "metadata": {},
   "source": [
    "### Choose solution:"
   ]
  },
  {
   "cell_type": "code",
   "execution_count": 18,
   "metadata": {},
   "outputs": [
    {
     "data": {
      "text/latex": [
       "$\\displaystyle - 92 x^{3} + 1590 x^{2} - 7648 x + 11670$"
      ],
      "text/plain": [
       "-92*x**3 + 1590*x**2 - 7648*x + 11670"
      ]
     },
     "execution_count": 18,
     "metadata": {},
     "output_type": "execute_result"
    }
   ],
   "source": [
    "s_val=4\n",
    "y_val=2\n",
    "Ans2 = Polynomial.subs([(s,s_val),(y,y_val)])\n",
    "Ans2\n"
   ]
  },
  {
   "cell_type": "markdown",
   "metadata": {},
   "source": [
    "### Present results:"
   ]
  },
  {
   "cell_type": "code",
   "execution_count": 19,
   "metadata": {},
   "outputs": [],
   "source": [
    "from IPython.display import display, Math\n",
    "from functools import reduce"
   ]
  },
  {
   "cell_type": "code",
   "execution_count": 20,
   "metadata": {},
   "outputs": [],
   "source": [
    "a, b  = symbols('a, b')"
   ]
  },
  {
   "cell_type": "markdown",
   "metadata": {},
   "source": [
    "Lets present our equations as follow:"
   ]
  },
  {
   "cell_type": "code",
   "execution_count": 21,
   "metadata": {},
   "outputs": [
    {
     "data": {
      "text/latex": [
       "$\\displaystyle \\begin{align}1&\\oplus 4 &\\eqcirc&\\ &5\\\\ 2&\\oplus 5 &\\eqcirc&\\ &12\\\\ 3&\\oplus 6 &\\eqcirc&\\ &21\\\\ 8&\\oplus 11 &\\eqcirc&\\ &s\\\\ \\end{align}$"
      ],
      "text/plain": [
       "<IPython.core.display.Math object>"
      ]
     },
     "metadata": {},
     "output_type": "display_data"
    }
   ],
   "source": [
    "Rows = reduce(lambda Acc, v: Acc + '{}&\\\\oplus {} &\\\\eqcirc&\\\\ &{}\\\\\\\\ '.format(v[0],v[1],v[2]), \\\n",
    "              list(zip(y_coeffs,x_points,f_const)),\"\")\n",
    "display(Math(\n",
    "\"\\\\begin{align}\"+\n",
    "Rows+    \n",
    "\"\\\\end{align}\"))"
   ]
  },
  {
   "cell_type": "markdown",
   "metadata": {},
   "source": [
    "We define can our plus and equal sign as:"
   ]
  },
  {
   "cell_type": "code",
   "execution_count": 22,
   "metadata": {},
   "outputs": [
    {
     "data": {
      "text/latex": [
       "$\\displaystyle a \\oplus b \\eqcirc\\ d\\ \\equiv 420 a - 92 b^{3} + 1590 b^{2} - 7648 b + 11670$"
      ],
      "text/plain": [
       "<IPython.core.display.Math object>"
      ]
     },
     "metadata": {},
     "output_type": "display_data"
    }
   ],
   "source": [
    "display(Math(\"a \\\\oplus b \\\\eqcirc\\\\ d\\ \\equiv \"+latex(y_val*LCM*a+Ans2.subs([(x, b)]))))"
   ]
  },
  {
   "cell_type": "markdown",
   "metadata": {},
   "source": [
    "$\\square$"
   ]
  }
 ],
 "metadata": {
  "kernelspec": {
   "display_name": "Python 3 (ipykernel)",
   "language": "python",
   "name": "python3"
  },
  "language_info": {
   "codemirror_mode": {
    "name": "ipython",
    "version": 3
   },
   "file_extension": ".py",
   "mimetype": "text/x-python",
   "name": "python",
   "nbconvert_exporter": "python",
   "pygments_lexer": "ipython3",
   "version": "3.11.7"
  }
 },
 "nbformat": 4,
 "nbformat_minor": 2
}
